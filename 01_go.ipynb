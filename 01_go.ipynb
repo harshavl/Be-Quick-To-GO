{
 "cells": [
  {
   "cell_type": "code",
   "execution_count": null,
   "id": "e04a860f",
   "metadata": {},
   "outputs": [],
   "source": []
  },
  {
   "cell_type": "markdown",
   "id": "8d94e9eb",
   "metadata": {},
   "source": [
    "Packages are Go's way of organizing code<br>\n",
    "Packages should be a single program or single-purpose\n",
    "library<br>\n",
    "Packages can be published to and imported from the Go package registry<br>\n",
    "Modules are a collection of packages go.mod<br>\n",
    "Can be managed by the Go CLI"
   ]
  },
  {
   "cell_type": "markdown",
   "id": "dc487fa6",
   "metadata": {},
   "source": [
    "## Data Types<br>\n",
    "\n",
    "Go is a statically typed language<br>\n",
    "Data types must be provided by the programmer<br>\n",
    "Go uses type inference to determine what type of data it is working with<br>\n",
    "Data types only need to be provided in specific circumstances<br>\n",
    "Can always specify the type if desired Compiler error if wrong type is used"
   ]
  },
  {
   "cell_type": "markdown",
   "id": "4f342b9b",
   "metadata": {},
   "source": [
    "## Strings and Runes<br>\n",
    "\n",
    " Textual data in Go uses UTF-8 encoding<br>\n",
    "Encoding is a way to represent thousands of different\n",
    "symbols using code pages<br>\n",
    "Code pages are tables which use the first few bytes of\n",
    "data to determine which page to use<br>\n",
    "Each symbol in the code page is called a code point\n",
    "\n"
   ]
  },
  {
   "cell_type": "markdown",
   "id": "ae4733a9",
   "metadata": {},
   "source": [
    "### Runes.<br>\n",
    "Text is represented using the rune type<br>\n",
    "Similar to char in many other programming languages<br>\n",
    "Rune is an alias for int32 (32-bit integer)<br>\n",
    "Always a number: will print numeric value unless proper\n",
    "formatting is specified<br>\n",
    "A rune can represent any symbol\n",
    "Letters, numbers, emoji, etc\n",
    "\n",
    "### Strings\n",
    "A string is the data type for storing multiple runes<br>\n",
    "Strings are just an array of bytes and a string length<br>\n",
    "There is no null termination with a Go string<br>\n",
    "Strings are not null terminated<br>\n",
    "When iterating a string, iteration occurs over bytes<br>\n",
    "    - Bytes are not symbols<br>\n",
    "    - Special iteration required to retrieve runes/symbols"
   ]
  },
  {
   "cell_type": "markdown",
   "id": "32e75bd5",
   "metadata": {},
   "source": [
    "Runes:  'a' <br>\n",
    "Strings: \"This is It\"<br>\n"
   ]
  },
  {
   "cell_type": "code",
   "execution_count": 4,
   "id": "8b065f10",
   "metadata": {},
   "outputs": [],
   "source": [
    "// Raw Literal: `lets code in \"GoLang\" `"
   ]
  },
  {
   "cell_type": "markdown",
   "id": "3410f7e3",
   "metadata": {},
   "source": [
    "### Go CLI Tool<br>\n",
    " Go toolchain provides the go command line utility.<br>\n",
    " This tool is used to:<br>\n",
    "Update dependencies <br>\n",
    "Build & test projects<br>\n",
    "Manage artifacts<br>\n",
    "Format source code<br>\n",
    "\n",
    "### Go Commands.<br>\n",
    " build: builds the project & emits an executable binary<br>\n",
    " build -race: checks for concurrency problems<br>\n",
    "run: runs the projects directly; no output executable <br>\n",
    "mod: manages modules & dependencies<br>\n",
    "mod tidy: updates dependencies<br>\n",
    "test: runs the project's test suite<br>\n",
    "fmt: formats all source files (usually automated with IDE)"
   ]
  },
  {
   "cell_type": "markdown",
   "id": "aae85220",
   "metadata": {},
   "source": [
    "### Variables<br>\n",
    "Variables have multiple components: Name<br>\n",
    "Data (or lack thereof) Type<br>"
   ]
  },
  {
   "cell_type": "code",
   "execution_count": 5,
   "id": "b05b1f6b",
   "metadata": {},
   "outputs": [],
   "source": [
    "// SIngle creation\n",
    "\n",
    "var example = 3\n",
    "var example int = 3\n",
    "\n",
    "var example int\n",
    "example = 3"
   ]
  },
  {
   "cell_type": "code",
   "execution_count": 6,
   "id": "766cddc6",
   "metadata": {},
   "outputs": [],
   "source": [
    "// Compound Creation\n",
    "\n",
    "var a,b,c = 1 , 2, \"sample\""
   ]
  },
  {
   "cell_type": "code",
   "execution_count": 12,
   "id": "8a549987",
   "metadata": {},
   "outputs": [
    {
     "ename": "ERROR",
     "evalue": "repl.go:4:7: missing ',' in argument list (and 1 more errors)",
     "output_type": "error",
     "traceback": [
      "repl.go:4:7: missing ',' in argument list (and 1 more errors)"
     ]
    }
   ],
   "source": [
    "// Block Creation\n",
    "\n",
    "vat (\n",
    "    a int = 1\n",
    "    b int = 2\n",
    "    c string = \"sample\"\n",
    ")"
   ]
  },
  {
   "cell_type": "code",
   "execution_count": 14,
   "id": "f9d71b8f",
   "metadata": {},
   "outputs": [],
   "source": [
    "// Create and Assign\n",
    "\n",
    "example := 3\n",
    "\n",
    "a,b := 1, \"Sample\""
   ]
  },
  {
   "cell_type": "markdown",
   "id": "3faa00bf",
   "metadata": {},
   "source": [
    "### Default<br>\n",
    "Variables that are declared but not assigned will automatically have a default value<br>\n",
    "`var name string` <br>\n",
    "String default: \"\" <br>\n",
    "Number default: 0 <br>\n",
    "Other default: nil"
   ]
  },
  {
   "cell_type": "code",
   "execution_count": 22,
   "id": "f1baff8a",
   "metadata": {},
   "outputs": [],
   "source": [
    "// Comma, OK\n",
    "//Allows a variable to be reassigned in a creation statement\n",
    "\n",
    "a := 1\n",
    "\n",
    "var a = 5 // Error"
   ]
  },
  {
   "cell_type": "code",
   "execution_count": 24,
   "id": "20c46dc3",
   "metadata": {},
   "outputs": [],
   "source": [
    "a,b := 1, 2 //OK\n"
   ]
  },
  {
   "cell_type": "code",
   "execution_count": 27,
   "id": "8e2b6299",
   "metadata": {},
   "outputs": [],
   "source": [
    "x, err := 12, \"Error\""
   ]
  },
  {
   "cell_type": "code",
   "execution_count": 28,
   "id": "a5659d5a",
   "metadata": {},
   "outputs": [],
   "source": [
    "// Go variable naming convention is camelCase:\n",
    "\n",
    "myFullNameis := \"harshavardhana\""
   ]
  },
  {
   "cell_type": "markdown",
   "id": "5ec287b4",
   "metadata": {},
   "source": [
    "### Constants<br>\n",
    "\n",
    "Constants can be created using the const keyword<br>\n",
    "Useful when declaring some value that needs to be utilized throughout some or all of the program<br>"
   ]
  },
  {
   "cell_type": "code",
   "execution_count": 29,
   "id": "e4539c8f",
   "metadata": {},
   "outputs": [],
   "source": [
    "const MaxSpeed = 100\n",
    "const MinPurchasePrice = 1.2\n",
    "const AppAuthor = \"Harsha\""
   ]
  },
  {
   "cell_type": "markdown",
   "id": "d090392e",
   "metadata": {},
   "source": [
    "### Demo Variables"
   ]
  },
  {
   "cell_type": "code",
   "execution_count": 40,
   "id": "8f2a043a",
   "metadata": {},
   "outputs": [
    {
     "name": "stdout",
     "output_type": "stream",
     "text": [
      "myName=krishnaname= keshava\n",
      "userName= anatha\n"
     ]
    },
    {
     "data": {
      "text/plain": [
       "17 <nil>"
      ]
     },
     "execution_count": 40,
     "metadata": {},
     "output_type": "execute_result"
    }
   ],
   "source": [
    "import \"fmt\"\n",
    "\n",
    "var myName = \"krishna\"\n",
    "fmt.Print( \"myName=\", myName)\n",
    "\n",
    "var name string = \"keshava\"\n",
    "fmt.Println(\"name=\", name )\n",
    "\n",
    "userName := \"anatha\"\n",
    "fmt.Println(\"userName=\", userName )\n"
   ]
  },
  {
   "cell_type": "code",
   "execution_count": 43,
   "id": "26fa60e5",
   "metadata": {},
   "outputs": [
    {
     "name": "stdout",
     "output_type": "stream",
     "text": [
      "hello there\n"
     ]
    },
    {
     "data": {
      "text/plain": [
       "12 <nil>"
      ]
     },
     "execution_count": 43,
     "metadata": {},
     "output_type": "execute_result"
    }
   ],
   "source": [
    "word1, word2, _ := \"hello\", \"there\", \"!\"\n",
    "fmt.Println(word1, word2)"
   ]
  },
  {
   "cell_type": "code",
   "execution_count": 47,
   "id": "7b0d4dc5",
   "metadata": {},
   "outputs": [
    {
     "name": "stderr",
     "output_type": "stream",
     "text": [
      "userName=anatha"
     ]
    }
   ],
   "source": [
    "print(\"userName=\", userName )"
   ]
  },
  {
   "cell_type": "markdown",
   "id": "8d9e8e9d",
   "metadata": {},
   "source": [
    "## Demo functions"
   ]
  },
  {
   "cell_type": "code",
   "execution_count": 48,
   "id": "18ec51f2",
   "metadata": {},
   "outputs": [],
   "source": [
    "\n",
    "func double( x int ) int {\n",
    "    return x * x\n",
    "}"
   ]
  },
  {
   "cell_type": "code",
   "execution_count": 49,
   "id": "9b3e8bda",
   "metadata": {},
   "outputs": [],
   "source": [
    "func greet(){\n",
    "    fmt.Println(\"Hello from GO\")\n",
    "}"
   ]
  },
  {
   "cell_type": "code",
   "execution_count": 50,
   "id": "0eb5bc16",
   "metadata": {},
   "outputs": [
    {
     "name": "stdout",
     "output_type": "stream",
     "text": [
      "Hello from GO\n"
     ]
    }
   ],
   "source": [
    "greet()"
   ]
  },
  {
   "cell_type": "code",
   "execution_count": 51,
   "id": "ba0bdc03",
   "metadata": {},
   "outputs": [
    {
     "data": {
      "text/plain": [
       "4"
      ]
     },
     "execution_count": 51,
     "metadata": {},
     "output_type": "execute_result"
    }
   ],
   "source": [
    "dozen := double(2 )\n",
    "\n",
    "dozen"
   ]
  },
  {
   "cell_type": "markdown",
   "id": "7378374e",
   "metadata": {},
   "source": [
    "### If else"
   ]
  },
  {
   "cell_type": "code",
   "execution_count": 53,
   "id": "de7c17f4",
   "metadata": {},
   "outputs": [
    {
     "name": "stdout",
     "output_type": "stream",
     "text": [
      "quiz1 scored higher than quiz2\n",
      "acceptable grades\n"
     ]
    }
   ],
   "source": [
    "func average( a, b, c int ) float32{\n",
    "    return float32(a+b+c) / 3\n",
    "}\n",
    "\n",
    "quiz1, quiz2, quiz3 := 9, 7, 8\n",
    "\n",
    "if quiz1 > quiz2 {\n",
    "    fmt.Println(\"quiz1 scored higher than quiz2\")\n",
    "} else if quiz1 < quiz2 {\n",
    "    fmt.Println(\"quiz 2 scored higher than quiz1\")\n",
    "} else {\n",
    "    fmt.Println(\"quiz 1 & quiz2 have the same score\")\n",
    "}\n",
    "\n",
    "if average(quiz1, quiz2, quiz3) > 7 {\n",
    "    fmt.Println(\"acceptable grades\")\n",
    "} else {\n",
    "    fmt.Println(\"instructor did a bad job!\")\n",
    "}"
   ]
  },
  {
   "cell_type": "markdown",
   "id": "ecd37d85",
   "metadata": {},
   "source": [
    "## Switch"
   ]
  },
  {
   "cell_type": "code",
   "execution_count": 54,
   "id": "5739dcd3",
   "metadata": {},
   "outputs": [
    {
     "name": "stdout",
     "output_type": "stream",
     "text": [
      "Cheap item \n"
     ]
    }
   ],
   "source": [
    "func price() int {\n",
    "    return 1\n",
    "}\n",
    "\n",
    "\n",
    "switch p:= price(); {\n",
    "    \n",
    "    case p < 2:\n",
    "        fmt.Println(\"Cheap item \")\n",
    "    \n",
    "    case p < 10:\n",
    "        fmt.Println(\"Moderetely priced item\")\n",
    "    \n",
    "    default:\n",
    "    fmt.Println(\"Expensive item\")\n",
    "         \n",
    "}"
   ]
  },
  {
   "cell_type": "markdown",
   "id": "1dcc1c1b",
   "metadata": {},
   "source": [
    "### Loop"
   ]
  },
  {
   "cell_type": "code",
   "execution_count": 60,
   "id": "9860f592",
   "metadata": {},
   "outputs": [
    {
     "name": "stdout",
     "output_type": "stream",
     "text": [
      "Sum is 0\n",
      "Sum is 1\n",
      "Sum is 3\n",
      "Sum is 6\n",
      "Sum is 10\n",
      "Sum is 15\n",
      "Sum is 21\n",
      "Sum is 28\n",
      "Sum is 36\n",
      "Sum is 45\n",
      "Sum is 55\n",
      "Decrement. Sum is 50\n",
      "Decrement. Sum is 45\n",
      "Decrement. Sum is 40\n",
      "Decrement. Sum is 35\n",
      "Decrement. Sum is 30\n",
      "Decrement. Sum is 25\n",
      "Decrement. Sum is 20\n",
      "Decrement. Sum is 15\n",
      "Decrement. Sum is 10\n",
      "Decrement. Sum is 5\n"
     ]
    }
   ],
   "source": [
    "// for: basic\n",
    "\n",
    "\n",
    "\n",
    "sum := 0\n",
    "fmt.Println(\"Sum is\", sum)\n",
    "for i := 1; i <= 10; i++ {\n",
    "    sum += i\n",
    "    fmt.Println(\"Sum is\", sum)\n",
    "}\n",
    "\n",
    "// for: while\n",
    "\n",
    "for sum >= 10 {\n",
    "    sum = sum - 5\n",
    "    fmt.Println(\"Decrement. Sum is\", sum)\n",
    "}\n"
   ]
  },
  {
   "cell_type": "code",
   "execution_count": 61,
   "id": "439a0986",
   "metadata": {},
   "outputs": [
    {
     "name": "stdout",
     "output_type": "stream",
     "text": [
      "1\n",
      "2\n",
      "Fizz\n",
      "4\n",
      "5\n",
      "Fizz\n",
      "7\n",
      "8\n",
      "Fizz\n",
      "10\n",
      "11\n",
      "Fizz\n",
      "13\n",
      "14\n",
      "FizzBizz\n",
      "16\n",
      "17\n",
      "Fizz\n",
      "19\n",
      "20\n",
      "Fizz\n",
      "22\n",
      "23\n",
      "Fizz\n",
      "25\n",
      "26\n",
      "Fizz\n",
      "28\n",
      "29\n",
      "FizzBizz\n",
      "31\n",
      "32\n",
      "Fizz\n",
      "34\n",
      "35\n",
      "Fizz\n",
      "37\n",
      "38\n",
      "Fizz\n",
      "40\n",
      "41\n",
      "Fizz\n",
      "43\n",
      "44\n",
      "FizzBizz\n",
      "46\n",
      "47\n",
      "Fizz\n",
      "49\n",
      "50\n"
     ]
    }
   ],
   "source": [
    "//--Summary:\n",
    "//  Implement the classic \"FizzBuzz\" problem using a `for` loop.\n",
    "//\n",
    "//--Requirements:\n",
    "//* Print integers 1 to 50, except:\n",
    "//  - Print \"Fizz\" if the integer is divisible by 3\n",
    "//  - Print \"Buzz\" if the integer is divisible by 5\n",
    "//  - Print \"FizzBuzz\" if the integer is divisible by both 3 and 5\n",
    "//\n",
    "//--Notes:\n",
    "//* The remainder operator (%) can be used to determine divisibility\n",
    "\n",
    "\n",
    "for i:=1; i<=50; i++ {\n",
    "    divisibleBy3 := i%3 == 0\n",
    "    divisibleBy5 := i%5 == 0\n",
    "    \n",
    "    if divisibleBy3 && divisibleBy5 {\n",
    "        // - Print \"FizzBuzz\" if the integer is divisible by both 3 and 5\n",
    "        fmt.Println(\"FizzBizz\")\n",
    "    } else if divisibleBy3 {\n",
    "        //  - Print \"Fizz\" if the integer is divisible by 3\n",
    "        fmt.Println(\"Fizz\")\n",
    "    } else {\n",
    "        fmt.Println(i)\n",
    "    }\n",
    "    \n",
    "}"
   ]
  },
  {
   "cell_type": "code",
   "execution_count": null,
   "id": "ba8cce04",
   "metadata": {},
   "outputs": [],
   "source": []
  }
 ],
 "metadata": {
  "kernelspec": {
   "display_name": "Go",
   "language": "go",
   "name": "gophernotes"
  },
  "language_info": {
   "codemirror_mode": "",
   "file_extension": ".go",
   "mimetype": "",
   "name": "go",
   "nbconvert_exporter": "",
   "pygments_lexer": "",
   "version": "go1.18.2"
  }
 },
 "nbformat": 4,
 "nbformat_minor": 5
}
