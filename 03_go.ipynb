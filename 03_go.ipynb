{
 "cells": [
  {
   "cell_type": "markdown",
   "id": "9fc4ab87",
   "metadata": {},
   "source": [
    "## Receiver Functions"
   ]
  },
  {
   "cell_type": "markdown",
   "id": "6a2b1ffd",
   "metadata": {},
   "source": [
    "Modified function signature which allows dot notation.<br>\n",
    "Makes writing some types of functionality more convenient. <br>\n",
    "Allows simple mutation of existing structures<br>\n",
    "Similar to modifying a class variable in other languages"
   ]
  },
  {
   "cell_type": "markdown",
   "id": "285ca1a8",
   "metadata": {},
   "source": [
    "Receiver functions provide the \"dot\" notation for structs<br>\n",
    "Create more convenient APIs<br>\n",
    "Pointer receivers can modify a struct <br>\n",
    "Value receivers cannot modify a struct Common to use pointer receivers\n",
    "\n",
    "\n",
    "\n"
   ]
  },
  {
   "cell_type": "code",
   "execution_count": 6,
   "id": "4f55d0f8",
   "metadata": {},
   "outputs": [],
   "source": [
    " // regular functions\n",
    "\n",
    "type Coordinate struct {\n",
    "    X, Y int\n",
    "}"
   ]
  },
  {
   "cell_type": "code",
   "execution_count": 7,
   "id": "841c38ea",
   "metadata": {},
   "outputs": [],
   "source": [
    "\n",
    "func shiftby( x, y int, coord *Coordinate ){\n",
    "    coord.X += x\n",
    "    coord.Y += y\n",
    "}"
   ]
  },
  {
   "cell_type": "code",
   "execution_count": 8,
   "id": "923e4cbc",
   "metadata": {},
   "outputs": [],
   "source": [
    "coord := Coordinate{5,5}\n",
    "shiftby( 1, 1, &coord)"
   ]
  },
  {
   "cell_type": "code",
   "execution_count": 9,
   "id": "def04ef6",
   "metadata": {},
   "outputs": [],
   "source": [
    "// Using receiver function or Pointer\n",
    "\n",
    "type Coordinate struct {\n",
    "    X, Y int\n",
    "}\n",
    "\n",
    "func ( coord *Coordinate ) shiftby( x, y int ){\n",
    "    coord.X += x\n",
    "    coord.Y += y\n",
    "}\n",
    "\n"
   ]
  },
  {
   "cell_type": "code",
   "execution_count": 10,
   "id": "bb07902d",
   "metadata": {},
   "outputs": [],
   "source": [
    "coord := Coordinate{5,5}\n",
    "coord.shiftby(1,1)"
   ]
  },
  {
   "cell_type": "code",
   "execution_count": 11,
   "id": "5053fc3a",
   "metadata": {},
   "outputs": [],
   "source": [
    "// Receiver Function ( Value )\n",
    "\n",
    "type Coordinate struct {\n",
    "    X , Y int\n",
    "}\n",
    "\n",
    "\n",
    "func ( c Coordinate ) Dist( other Coordinate ) Coordinate{\n",
    "    return Coordinate{ c.X - other.X,  c.Y - other.Y }\n",
    "}\n",
    "\n",
    "\n",
    "first := Coordinate{2,2}\n",
    "second := Coordinate{1,5}\n",
    "\n",
    "distance := first.Dist( second )"
   ]
  },
  {
   "cell_type": "code",
   "execution_count": 12,
   "id": "5022bda2",
   "metadata": {},
   "outputs": [
    {
     "data": {
      "text/plain": [
       "{1 -3}"
      ]
     },
     "execution_count": 12,
     "metadata": {},
     "output_type": "execute_result"
    }
   ],
   "source": [
    "distance"
   ]
  },
  {
   "cell_type": "markdown",
   "id": "4f0f3871",
   "metadata": {},
   "source": [
    "### One more example"
   ]
  },
  {
   "cell_type": "code",
   "execution_count": 13,
   "id": "342f35f1",
   "metadata": {},
   "outputs": [
    {
     "name": "stdout",
     "output_type": "stream",
     "text": [
      "Initial: {[{false} {false} {false} {false}]}\n",
      "Occupied: {[{true} {true} {false} {false}]}\n",
      "After vacate: {[{true} {false} {false} {false}]}\n"
     ]
    }
   ],
   "source": [
    "package main\n",
    "\n",
    "import \"fmt\"\n",
    "\n",
    "type Space struct {\n",
    "\toccupied bool\n",
    "}\n",
    "\n",
    "type ParkingLot struct {\n",
    "\tspaces []Space\n",
    "}\n",
    "\n",
    "func occupySpace(lot *ParkingLot, spaceNum int) {\n",
    "\tlot.spaces[spaceNum-1].occupied = true\n",
    "}\n",
    "\n",
    "// Same as above, different calling convention\n",
    "func (lot *ParkingLot) occupySpace(spaceNum int) {\n",
    "\tlot.spaces[spaceNum-1].occupied = true\n",
    "}\n",
    "\n",
    "func (lot *ParkingLot) vacateSpace(spaceNum int) {\n",
    "\tlot.spaces[spaceNum-1].occupied = false\n",
    "}\n",
    "\n",
    "func main() {\n",
    "\tlot := ParkingLot{spaces: make([]Space, 4)}\n",
    "\tfmt.Println(\"Initial:\", lot)\n",
    "\n",
    "\tlot.occupySpace(1)\n",
    "\toccupySpace(&lot, 2)\n",
    "\tfmt.Println(\"Occupied:\", lot)\n",
    "\n",
    "\tlot.vacateSpace(2)\n",
    "\tfmt.Println(\"After vacate:\", lot)\n",
    "}\n",
    "\n",
    "main()"
   ]
  },
  {
   "cell_type": "markdown",
   "id": "c2eb0b8d",
   "metadata": {},
   "source": [
    "#### one more example"
   ]
  },
  {
   "cell_type": "code",
   "execution_count": 14,
   "id": "336693cd",
   "metadata": {},
   "outputs": [
    {
     "name": "stdout",
     "output_type": "stream",
     "text": [
      "knight Damage 99  ->  1\n",
      "knight Add 10 health ->  11\n",
      "knight Consume 20 energy ->  480\n",
      "knight Add 10 energy ->  490\n"
     ]
    }
   ],
   "source": [
    "//--Summary:\n",
    "//  Implement receiver functions to create stat modifications\n",
    "//  for a video game character.\n",
    "//\n",
    "//--Requirements:\n",
    "//* Implement a player having the following statistics:\n",
    "//  - Health, Max Health\n",
    "//  - Energy, Max Energy\n",
    "//  - Name\n",
    "//* Implement receiver functions to modify the `Health` and `Energy`\n",
    "//  statistics of the player.\n",
    "//  - Print out the statistic change within each function\n",
    "//  - Execute each function at least once\n",
    "\n",
    "package main\n",
    "\n",
    "import \"fmt\"\n",
    "\n",
    "//* Implement a player having the following statistics:\n",
    "//  - Health, Max Health\n",
    "//  - Energy, Max Energy\n",
    "//  - Name\n",
    "type Player struct {\n",
    "\tname              string\n",
    "\thealth, maxHealth uint\n",
    "\tenergy, maxEnergy uint\n",
    "}\n",
    "\n",
    "func (player *Player) addHealth(amount uint) {\n",
    "\tplayer.health += amount\n",
    "\tif player.health > player.maxHealth {\n",
    "\t\tplayer.health = player.maxHealth\n",
    "\t}\n",
    "\tfmt.Println(player.name, \"Add\", amount, \"health -> \", player.health)\n",
    "}\n",
    "\n",
    "func (player *Player) applyDamage(amount uint) {\n",
    "\t// overflow check\n",
    "\tif player.health-amount > player.health {\n",
    "\t\tplayer.health = 0\n",
    "\t} else {\n",
    "\t\tplayer.health -= amount\n",
    "\t}\n",
    "\tfmt.Println(player.name, \"Damage\", amount, \" -> \", player.health)\n",
    "}\n",
    "\n",
    "func (player *Player) addEnergy(amount uint) {\n",
    "\tplayer.energy += amount\n",
    "\tif player.energy > player.maxEnergy {\n",
    "\t\tplayer.energy = player.maxEnergy\n",
    "\t}\n",
    "\tfmt.Println(player.name, \"Add\", amount, \"energy -> \", player.energy)\n",
    "}\n",
    "\n",
    "func (player *Player) consumeEnergy(amount uint) {\n",
    "\t// overflow check\n",
    "\tif player.energy-amount > player.energy {\n",
    "\t\tplayer.energy = 0\n",
    "\t} else {\n",
    "\t\tplayer.energy -= amount\n",
    "\t}\n",
    "\tfmt.Println(player.name, \"Consume\", amount, \"energy -> \", player.energy)\n",
    "}\n",
    "\n",
    "func main() {\n",
    "\tplayer := Player{\n",
    "\t\tname:      \"knight\",\n",
    "\t\thealth:    100,\n",
    "\t\tmaxHealth: 100,\n",
    "\t\tenergy:    500,\n",
    "\t\tmaxEnergy: 500,\n",
    "\t}\n",
    "\n",
    "\t//  - Execute each function at least once\n",
    "\tplayer.applyDamage(99)\n",
    "\tplayer.addHealth(10)\n",
    "\tplayer.consumeEnergy(20)\n",
    "\tplayer.addEnergy(10)\n",
    "}\n",
    "\n",
    "main()"
   ]
  },
  {
   "cell_type": "markdown",
   "id": "5dd8a492",
   "metadata": {},
   "source": [
    "## IOTA<br>\n",
    "const is like a variable, but unchanging<br>\n",
    "Common to make groups of constants<br>\n",
    "iota keyword can be used to automatically assign values"
   ]
  },
  {
   "cell_type": "code",
   "execution_count": 15,
   "id": "29627912",
   "metadata": {},
   "outputs": [],
   "source": [
    "const (\n",
    "    online = 0\n",
    "    offline = 1\n",
    ")"
   ]
  },
  {
   "cell_type": "code",
   "execution_count": 16,
   "id": "9f75b1e1",
   "metadata": {},
   "outputs": [],
   "source": [
    "const (\n",
    "    online = 0\n",
    "    offline \n",
    ")"
   ]
  },
  {
   "cell_type": "code",
   "execution_count": 17,
   "id": "13619376",
   "metadata": {},
   "outputs": [],
   "source": [
    "// Long form\n",
    "\n",
    "const(\n",
    "    L0 = iota //0\n",
    "    L1 = iota // 1\n",
    ")"
   ]
  },
  {
   "cell_type": "code",
   "execution_count": 18,
   "id": "a2e8f631",
   "metadata": {},
   "outputs": [],
   "source": [
    "// Short-form\n",
    "\n",
    "const(\n",
    "    s0 = iota //0\n",
    "    s1\n",
    ")"
   ]
  },
  {
   "cell_type": "code",
   "execution_count": 19,
   "id": "0648ef39",
   "metadata": {},
   "outputs": [],
   "source": [
    "// Skipping Values\n",
    "\n",
    "const(\n",
    "    s0 = iota\n",
    "    _\n",
    "    _\n",
    "    s3  // 3\n",
    ")"
   ]
  },
  {
   "cell_type": "code",
   "execution_count": 20,
   "id": "bebbc6a0",
   "metadata": {},
   "outputs": [],
   "source": [
    "// start at 3\n",
    "\n",
    "const(\n",
    "    i3 = iota + 3 // 3 = iota + 3\n",
    "    i4\n",
    "    i5\n",
    ")"
   ]
  },
  {
   "cell_type": "markdown",
   "id": "c2598e6f",
   "metadata": {},
   "source": [
    "#### iota Enumeration Pattern\n",
    "\n"
   ]
  },
  {
   "cell_type": "markdown",
   "id": "6bbab9aa",
   "metadata": {},
   "source": [
    " The iota keyword can be used to assign integers to constants<br>\n",
    "Replicates C-style enums <br>\n",
    "Values can be skipped by using an underscore (_)<br>\n",
    "iota values can be expressions (iota + 5) <br>\n",
    "Use a receiver function to more easily work with constants and iota"
   ]
  },
  {
   "cell_type": "code",
   "execution_count": 21,
   "id": "08aa2562",
   "metadata": {},
   "outputs": [
    {
     "name": "stdout",
     "output_type": "stream",
     "text": [
      "4\n",
      "7\n",
      "9\n",
      "50\n"
     ]
    }
   ],
   "source": [
    "//--Summary:\n",
    "//  Create a calculator that can perform basic mathematical operations.\n",
    "//\n",
    "//--Requirements:\n",
    "//* Mathematical operations must be defined as constants using iota\n",
    "//* Write a receiver function that performs the mathematical operation\n",
    "//  on two operands\n",
    "//* Operations required:\n",
    "//  - Add, Subtract, Multiply, Divide\n",
    "//* The existing function calls in main() represent the API and cannot be changed\n",
    "//\n",
    "//--Notes:\n",
    "//* Your program is complete when it compiles and prints the correct results\n",
    "\n",
    "package main\n",
    "\n",
    "import \"fmt\"\n",
    "\n",
    "//* Mathematical operations must be defined as constants using iota\n",
    "const (\n",
    "\tAdd = iota\n",
    "\tSubtract\n",
    "\tMultiply\n",
    "\tDivide\n",
    ")\n",
    "\n",
    "type Operation int\n",
    "\n",
    "//* Write a receiver function that performs the mathematical operation\n",
    "//  on two operands\n",
    "func (op Operation) calculate(lhs, rhs int) int {\n",
    "\tswitch op {\n",
    "\tcase Add:\n",
    "\t\treturn lhs + rhs\n",
    "\tcase Subtract:\n",
    "\t\treturn lhs - rhs\n",
    "\tcase Multiply:\n",
    "\t\treturn lhs * rhs\n",
    "\tcase Divide:\n",
    "\t\treturn lhs / rhs\n",
    "\t}\n",
    "\tpanic(\"unhandled operation\")\n",
    "}\n",
    "\n",
    "func main() {\n",
    "\t//* The existing function calls in main() represent the API and cannot be changed\n",
    "\tadd := Operation(Add)\n",
    "\tfmt.Println(add.calculate(2, 2)) // = 4\n",
    "\n",
    "\tsub := Operation(Subtract)\n",
    "\tfmt.Println(sub.calculate(10, 3)) // = 7\n",
    "\n",
    "\tmul := Operation(Multiply)\n",
    "\tfmt.Println(mul.calculate(3, 3)) // = 9\n",
    "\n",
    "\tdiv := Operation(Divide)\n",
    "\tfmt.Println(div.calculate(100, 2)) // = 50\n",
    "}\n",
    "\n",
    "\n",
    "main()"
   ]
  },
  {
   "cell_type": "markdown",
   "id": "067140e1",
   "metadata": {},
   "source": [
    "## Variadics"
   ]
  },
  {
   "cell_type": "code",
   "execution_count": 22,
   "id": "a2e5df27",
   "metadata": {},
   "outputs": [],
   "source": [
    "\n",
    "func sum( nums ...int ) int {\n",
    "    \n",
    "    sum := 0\n",
    "    for _, n := range nums{\n",
    "        sum += n\n",
    "    }\n",
    "    return sum\n",
    "}"
   ]
  },
  {
   "cell_type": "code",
   "execution_count": 23,
   "id": "5568cded",
   "metadata": {},
   "outputs": [
    {
     "data": {
      "text/plain": [
       "21"
      ]
     },
     "execution_count": 23,
     "metadata": {},
     "output_type": "execute_result"
    }
   ],
   "source": [
    "a := []int{ 1,2,3 }\n",
    "b := []int{ 4,5,6 }\n",
    "\n",
    "all := append( a, b... )\n",
    "\n",
    "answer := sum( all... )\n",
    "\n",
    "answer"
   ]
  },
  {
   "cell_type": "code",
   "execution_count": 25,
   "id": "670f8ae3",
   "metadata": {},
   "outputs": [
    {
     "data": {
      "text/plain": [
       "21"
      ]
     },
     "execution_count": 25,
     "metadata": {},
     "output_type": "execute_result"
    }
   ],
   "source": [
    "answer = sum( 1,2,3,4,5,6)\n",
    "answer"
   ]
  },
  {
   "cell_type": "markdown",
   "id": "008984f0",
   "metadata": {},
   "source": [
    "## fmt package<br>\n",
    "\n",
    "provides terminal printing and string formatting.<br>\n",
    "\n",
    "functions: Printf, Print, Println<br>\n",
    "\n",
    "#### F and S<br>\n",
    "F --> prints to a data stream: Fprintf, Fprint, Fprintln<br>\n",
    "S --> prints to a new string: Sprintf, Sprint, Sprintln"
   ]
  },
  {
   "cell_type": "markdown",
   "id": "d818c206",
   "metadata": {},
   "source": [
    "## Packages<br>\n",
    "Packages are Go's way of organizing code<br>\n",
    "Programs are written as one or more packages<br>\n",
    "Packages can be imported from the Go package registry<br>\n",
    "Packages should be focused and perform a single thing<br>\n",
    "Argument parsing, Drawing graphics, Handling HTTP requests"
   ]
  },
  {
   "cell_type": "code",
   "execution_count": 26,
   "id": "1fc84f5a",
   "metadata": {},
   "outputs": [],
   "source": [
    "/* Using Packages\n",
    "\n",
    "import \"name\"\n",
    "\n",
    "import (\n",
    "    \"name\"\n",
    "    \"namespace/packageName\"\n",
    "    )\n",
    "*/"
   ]
  },
  {
   "cell_type": "markdown",
   "id": "1ba80b99",
   "metadata": {},
   "source": [
    "Can import everything using a dot (.)<br>\n",
    "No need to reference package name in code<br>\n",
    "Imports can be renamed<br>"
   ]
  },
  {
   "cell_type": "code",
   "execution_count": 28,
   "id": "a0589e43",
   "metadata": {},
   "outputs": [],
   "source": [
    "/*\n",
    "\n",
    "import (\n",
    "    . \"name\"\n",
    "    pk \"namespace/packageName\"\n",
    "    )\n",
    "*/"
   ]
  },
  {
   "cell_type": "markdown",
   "id": "81af397e",
   "metadata": {},
   "source": [
    "### Modules<br>\n",
    "Modules are a collection of packages<br>\n",
    "Created by having a go.mod file in the root directory of\n",
    "your project<br>\n",
    "    - Can be managed by the Go CLI<br>\n",
    "Contains information about your project<br>\n",
    "    - Dependencies, Go version, package info<br>\n",
    "All Go projects have a go.mod file"
   ]
  },
  {
   "cell_type": "markdown",
   "id": "f88b1550",
   "metadata": {},
   "source": [
    "## init Function"
   ]
  },
  {
   "cell_type": "markdown",
   "id": "0fb3287a",
   "metadata": {},
   "source": [
    "Common to have an initialization step in programs<br>\n",
    "Creating a function named init() will perform initialization<br>\n",
    "init() is ran before the main() function<br>\n",
    "Allows creation and validation of program state before\n",
    "execution begins<br>\n",
    "Check network connections, database connections, cache expensive operations, etc"
   ]
  },
  {
   "cell_type": "markdown",
   "id": "1a436a48",
   "metadata": {},
   "source": [
    "Each package can have it's own init() function<br>\n",
    "All packages will execute init() before main() runs"
   ]
  },
  {
   "cell_type": "code",
   "execution_count": 30,
   "id": "600d6290",
   "metadata": {},
   "outputs": [],
   "source": [
    "var WhatIsThe = AnswerToLife()\n",
    "\n",
    "func AnswerToLife() int {\n",
    "    return 42\n",
    "}\n",
    "\n",
    "func init() {\n",
    "    WhatIsThe = 0\n",
    "}\n",
    "\n",
    "func main() {\n",
    "    if WhatIsThe == 0 {\n",
    "        fmt.Println(\"It's all a lie.\")\n",
    "    }\n",
    "}"
   ]
  },
  {
   "cell_type": "markdown",
   "id": "ed510eb0",
   "metadata": {},
   "source": [
    "### Multiple Init Functions in the Same File"
   ]
  },
  {
   "cell_type": "code",
   "execution_count": 33,
   "id": "1917df3a",
   "metadata": {},
   "outputs": [
    {
     "name": "stdout",
     "output_type": "stream",
     "text": [
      "Does nothing of any significance\n",
      "Init Counter: 0\n"
     ]
    }
   ],
   "source": [
    "package main\n",
    "\n",
    "import \"fmt\"\n",
    "\n",
    "// this variable is initialized first due to\n",
    "// order of declaration\n",
    "var initCounter int\n",
    "\n",
    "func init() {\n",
    "    fmt.Println(\"Called First in Order of Declaration\")\n",
    "    initCounter++\n",
    "}\n",
    "\n",
    "func init() {\n",
    "    fmt.Println(\"Called second in order of declaration\")\n",
    "    initCounter++\n",
    "}\n",
    "\n",
    "func main() {\n",
    "    fmt.Println(\"Does nothing of any significance\")\n",
    "    fmt.Printf(\"Init Counter: %d\\n\", initCounter)\n",
    "}\n",
    "\n",
    "main()"
   ]
  },
  {
   "cell_type": "markdown",
   "id": "d863a334",
   "metadata": {},
   "source": [
    "## Testing<br>"
   ]
  },
  {
   "cell_type": "markdown",
   "id": "707c8963",
   "metadata": {},
   "source": [
    "Important to test software to prevent regressions and ensure it meets specifications<br>\n",
    "Unit testing - test individual functions<br>\n",
    "Integration testing - test functions/modules working together<br>\n",
    "Go makes no distinction between the two<br>\n",
    "    - Same process to create both Unit & Integration test"
   ]
  },
  {
   "cell_type": "markdown",
   "id": "bc845f1c",
   "metadata": {},
   "source": [
    "### set up<br>\n",
    "\n",
    "Tests are written in separate files, sharing the name of the file they are testing<br>\n",
    "importantPkg.go --> importantPkg_test.go <br>\n",
    "Unit tests should be in the same package <br>\n",
    "The testing package is used to create tests and must be imported in each test file"
   ]
  },
  {
   "cell_type": "code",
   "execution_count": 37,
   "id": "241bc291",
   "metadata": {},
   "outputs": [],
   "source": [
    "\n",
    "// queue.go\n",
    "\n",
    "package queue\n",
    "\n",
    "type Queue struct {\n",
    "\titems    []int\n",
    "\tcapacity int\n",
    "}\n",
    "\n",
    "func New(capacity int) Queue {\n",
    "\treturn Queue{make([]int, 0, capacity), capacity}\n",
    "}\n",
    "\n",
    "func (q *Queue) Append(item int) bool {\n",
    "\tif len(q.items) == q.capacity {\n",
    "\t\treturn false\n",
    "\t}\n",
    "\tq.items = append(q.items, item)\n",
    "\treturn true\n",
    "}\n",
    "\n",
    "func (q *Queue) Next() (int, bool) {\n",
    "\tif len(q.items) > 0 {\n",
    "\t\tnext := q.items[0]\n",
    "\t\tq.items = q.items[1:]\n",
    "\t\treturn next, true\n",
    "\t} else {\n",
    "\t\treturn 0, false\n",
    "\t}\n",
    "}"
   ]
  },
  {
   "cell_type": "code",
   "execution_count": 38,
   "id": "62de915f",
   "metadata": {},
   "outputs": [],
   "source": [
    "// use `go test -v ./demo/testing` to run tests\n",
    "package queue\n",
    "\n",
    "import \"testing\"\n",
    "\n",
    "func TestAddQueue(t *testing.T) {\n",
    "\tq := New(3)\n",
    "\tfor i := 0; i < 3; i++ {\n",
    "\t\tif len(q.items) != i {\n",
    "\t\t\tt.Errorf(\"incorrect queue element count: %v, want %v\", len(q.items), i)\n",
    "\t\t}\n",
    "\t\tif !q.Append(i) {\n",
    "\t\t\tt.Errorf(\"failed to append item %v to queue\", i)\n",
    "\t\t}\n",
    "\t}\n",
    "\tif q.Append(4) {\n",
    "\t\tt.Errorf(\"should not be able to add to a full queue\")\n",
    "\t}\n",
    "}\n",
    "\n",
    "func TestNext(t *testing.T) {\n",
    "\tq := New(3)\n",
    "\tfor i := 0; i < 3; i++ {\n",
    "\t\tq.Append(i)\n",
    "\t}\n",
    "\n",
    "\tfor i := 0; i < 3; i++ {\n",
    "\t\titem, ok := q.Next()\n",
    "\t\tif !ok {\n",
    "\t\t\tt.Errorf(\"should be able to get item from queue\")\n",
    "\t\t}\n",
    "\t\tif item != i {\n",
    "\t\t\tt.Errorf(\"got item in wrong order: %v, want: %v\", item, i)\n",
    "\t\t}\n",
    "\t}\n",
    "\titem, ok := q.Next()\n",
    "\tif ok {\n",
    "\t\tt.Errorf(\"should not be any more items in queue, got: %v\", item)\n",
    "\t}\n",
    "}\n"
   ]
  },
  {
   "cell_type": "markdown",
   "id": "751b761a",
   "metadata": {},
   "source": [
    "## one more exxample"
   ]
  },
  {
   "cell_type": "code",
   "execution_count": 39,
   "id": "986d23f2",
   "metadata": {},
   "outputs": [],
   "source": [
    "//--Summary:\n",
    "//  Implement receiver functions to create stat modifications\n",
    "//  for a video game character.\n",
    "//\n",
    "//--Requirements:\n",
    "//* Implement a player having the following statistics:\n",
    "//  - Health, Max Health\n",
    "//  - Energy, Max Energy\n",
    "//  - Name\n",
    "//* Implement receiver functions to modify the `Health` and `Energy`\n",
    "//  statistics of the player.\n",
    "//  - Print out the statistic change within each function\n",
    "//  - Execute each function at least once\n",
    "\n",
    "package main\n",
    "\n",
    "import \"fmt\"\n",
    "\n",
    "//* Implement a player having the following statistics:\n",
    "//  - Health, Max Health\n",
    "//  - Energy, Max Energy\n",
    "//  - Name\n",
    "type Player struct {\n",
    "\tname              string\n",
    "\thealth, maxHealth uint\n",
    "\tenergy, maxEnergy uint\n",
    "}\n",
    "\n",
    "func (player *Player) addHealth(amount uint) {\n",
    "\tplayer.health += amount\n",
    "\tif player.health > player.maxHealth {\n",
    "\t\tplayer.health = player.maxHealth\n",
    "\t}\n",
    "\tfmt.Println(player.name, \"Add\", amount, \"health -> \", player.health)\n",
    "}\n",
    "\n",
    "func (player *Player) applyDamage(amount uint) {\n",
    "\t// overflow check\n",
    "\tif player.health-amount > player.health {\n",
    "\t\tplayer.health = 0\n",
    "\t} else {\n",
    "\t\tplayer.health -= amount\n",
    "\t}\n",
    "\tfmt.Println(player.name, \"Damage\", amount, \" -> \", player.health)\n",
    "}\n",
    "\n",
    "func (player *Player) addEnergy(amount uint) {\n",
    "\tplayer.energy += amount\n",
    "\tif player.energy > player.maxEnergy {\n",
    "\t\tplayer.energy = player.maxEnergy\n",
    "\t}\n",
    "\tfmt.Println(player.name, \"Add\", amount, \"energy -> \", player.energy)\n",
    "}\n",
    "\n",
    "func (player *Player) consumeEnergy(amount uint) {\n",
    "\t// overflow check\n",
    "\tif player.energy-amount > player.energy {\n",
    "\t\tplayer.energy = 0\n",
    "\t} else {\n",
    "\t\tplayer.energy -= amount\n",
    "\t}\n",
    "\tfmt.Println(player.name, \"Consume\", amount, \"energy -> \", player.energy)\n",
    "}\n",
    "\n",
    "func main() {\n",
    "\tplayer := Player{\n",
    "\t\tname:      \"knight\",\n",
    "\t\thealth:    100,\n",
    "\t\tmaxHealth: 100,\n",
    "\t\tenergy:    500,\n",
    "\t\tmaxEnergy: 500,\n",
    "\t}\n",
    "\n",
    "\t//  - Execute each function at least once\n",
    "\tplayer.applyDamage(99)\n",
    "\tplayer.addHealth(10)\n",
    "\tplayer.consumeEnergy(20)\n",
    "\tplayer.addEnergy(10)\n",
    "}\n"
   ]
  },
  {
   "cell_type": "code",
   "execution_count": 40,
   "id": "bd2bb786",
   "metadata": {},
   "outputs": [],
   "source": [
    "//--Summary:\n",
    "//  Copy your rcv-func solution to this directory and write unit tests.\n",
    "//\n",
    "//--Requirements:\n",
    "//* Write unit tests that ensure:\n",
    "//  - Health & energy can not go above their maximums\n",
    "//  - Health & energy can not go below 0\n",
    "//* If any of your  tests fail, make the necessary corrections\n",
    "//  in the copy of your rcv-func solution file.\n",
    "//\n",
    "//--Notes:\n",
    "//* Use `go test -v ./exercise/testing` to run these specific tests\n",
    "\n",
    "package main\n",
    "\n",
    "import \"testing\"\n",
    "\n",
    "func newPlayer() Player {\n",
    "\treturn Player{\n",
    "\t\tname:      \"test\",\n",
    "\t\thealth:    100,\n",
    "\t\tmaxHealth: 100,\n",
    "\t\tenergy:    500,\n",
    "\t\tmaxEnergy: 500,\n",
    "\t}\n",
    "}\n",
    "\n",
    "func TestHealth(t *testing.T) {\n",
    "\tplayer := newPlayer()\n",
    "\tplayer.addHealth(999)\n",
    "\t//  - Health & energy can not go above their maximums\n",
    "\tif player.health > player.maxHealth {\n",
    "\t\tt.Fatalf(\"Health went over limit: %v, want: %v\", player.health, player.maxHealth)\n",
    "\t}\n",
    "\tplayer.applyDamage(player.maxHealth + 1)\n",
    "\t//  - Health & energy can not go below 0\n",
    "\tif player.health < 0 {\n",
    "\t\tt.Fatalf(\"Health: %v. Minimum: 0\", player.health)\n",
    "\t}\n",
    "\tif player.health > player.maxHealth {\n",
    "\t\tt.Fatalf(\"Health: %v. Maximum: %v\", player.health, player.maxHealth)\n",
    "\t}\n",
    "\n",
    "}\n",
    "\n",
    "func TestEnergy(t *testing.T) {\n",
    "\tplayer := newPlayer()\n",
    "\tplayer.addEnergy(999)\n",
    "\t//  - Health & energy can not go above their maximums\n",
    "\tif player.energy > player.maxEnergy {\n",
    "\t\tt.Fatalf(\"Energy went over limit: %v, want: %v\", player.energy, player.maxEnergy)\n",
    "\t}\n",
    "\tplayer.consumeEnergy(player.maxEnergy + 1)\n",
    "\t//  - Health & energy can not go below 0\n",
    "\tif player.energy < 0 {\n",
    "\t\tt.Fatalf(\"Energy: %v. Minimum: 0\", player.energy)\n",
    "\t}\n",
    "\tif player.energy > player.maxEnergy {\n",
    "\t\tt.Fatalf(\"Energy: %v. Maximum: %v\", player.energy, player.maxEnergy)\n",
    "\t}\n",
    "\n",
    "}\n"
   ]
  },
  {
   "cell_type": "code",
   "execution_count": null,
   "id": "6579acc5",
   "metadata": {},
   "outputs": [],
   "source": []
  }
 ],
 "metadata": {
  "kernelspec": {
   "display_name": "Go",
   "language": "go",
   "name": "gophernotes"
  },
  "language_info": {
   "codemirror_mode": "",
   "file_extension": ".go",
   "mimetype": "",
   "name": "go",
   "nbconvert_exporter": "",
   "pygments_lexer": "",
   "version": "go1.18.2"
  }
 },
 "nbformat": 4,
 "nbformat_minor": 5
}
