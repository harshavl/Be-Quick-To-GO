{
 "cells": [
  {
   "cell_type": "markdown",
   "id": "e53daf2c",
   "metadata": {},
   "source": [
    "### Structures<br>\n",
    "\n",
    "Structures allow data to be stored in groups.<br>\n",
    "Similar to a \"class\" in other programming languages Each data point in the structure is called a field.<br> Storing data in groups is usually more efficient.<br>\n",
    "Possible to associate functionality with structures Helps organize code and data"
   ]
  },
  {
   "cell_type": "code",
   "execution_count": 1,
   "id": "dec3e494",
   "metadata": {},
   "outputs": [],
   "source": [
    "// define struct\n",
    "\n",
    "type Sample struct {\n",
    "    \n",
    "    field string\n",
    "    a, b int\n",
    "}"
   ]
  },
  {
   "cell_type": "code",
   "execution_count": 2,
   "id": "047b3ae0",
   "metadata": {},
   "outputs": [],
   "source": [
    "// Instantiating a strcuture\n",
    "\n",
    "data := Sample{ \"word\", 1, 2 }\n",
    "\n",
    "data := Sample{\n",
    "    field: \"word\",\n",
    "    a: 1,\n",
    "    b: 2,\n",
    "}"
   ]
  },
  {
   "cell_type": "code",
   "execution_count": 3,
   "id": "6d4bfd61",
   "metadata": {},
   "outputs": [],
   "source": [
    "// default values\n",
    "\n",
    "data := Sample{}\n",
    "\n",
    "data := Sample{ a: 5 }"
   ]
  },
  {
   "cell_type": "code",
   "execution_count": 4,
   "id": "f7405a25",
   "metadata": {},
   "outputs": [],
   "source": [
    "// Accessing Fields\n",
    "// read and write\n",
    "\n",
    "word := data.field\n",
    "a,b := data.a, data.b\n",
    "\n",
    "\n",
    "data.field = \"hello\"\n",
    "data.a = 10\n",
    "data.b = 20 \n"
   ]
  },
  {
   "cell_type": "markdown",
   "id": "a2ff4bb8",
   "metadata": {},
   "source": [
    "### Anonymous Structures<br>\n",
    "It's possible to create anonymous/inline structures inside of a function.<br>\n",
    "Useful when working with library functions or when shipping data across a network.<br>\n",
    "Can easily define the data structure as-needed<br>\n",
    "Inline structs created using var will have default values<br>\n",
    "Shorthand version must have each field defined\n"
   ]
  },
  {
   "cell_type": "code",
   "execution_count": 6,
   "id": "353e53c1",
   "metadata": {},
   "outputs": [],
   "source": [
    "\n",
    "var Sample struct{\n",
    "    field string\n",
    "    a,b int\n",
    "}\n",
    "\n",
    "Sample.field = \"hello\"\n",
    "Sample.a = 9\n",
    "\n",
    "\n",
    "//OR\n",
    "\n",
    "\n",
    "sample := struct{\n",
    "    field string\n",
    "    a,b int\n",
    "}{\n",
    "    \"hello\",\n",
    "    1,\n",
    "    2,\n",
    "}"
   ]
  },
  {
   "cell_type": "code",
   "execution_count": 7,
   "id": "6e132a04",
   "metadata": {},
   "outputs": [],
   "source": [
    "// Examples\n",
    "\n",
    "type Passenger struct {\n",
    "\tName         string\n",
    "\tTicketNumber int\n",
    "\tBoarded      bool\n",
    "}\n",
    "\n",
    "type Bus struct {\n",
    "\tFrontSeat Passenger\n",
    "}"
   ]
  },
  {
   "cell_type": "code",
   "execution_count": 11,
   "id": "616d652a",
   "metadata": {},
   "outputs": [
    {
     "name": "stdout",
     "output_type": "stream",
     "text": [
      "{Casey 1 false}\n",
      "{Bill 2 false} {Ella 2 false}\n",
      "{Heidi 4 false}\n",
      "Bill has boarded the bus\n",
      "Casey has boarded the bus\n",
      "{{Heidi 4 true}}\n",
      "Heidi is in the front seat\n"
     ]
    },
    {
     "data": {
      "text/plain": [
       "27 <nil>"
      ]
     },
     "execution_count": 11,
     "metadata": {},
     "output_type": "execute_result"
    }
   ],
   "source": [
    "import \"fmt\"\n",
    "\n",
    "casey := Passenger{\"Casey\", 1, false}\n",
    "fmt.Println(casey)\n",
    "\n",
    "var (\n",
    "    bill = Passenger{Name: \"Bill\", TicketNumber: 2}\n",
    "    ella = Passenger{Name: \"Ella\", TicketNumber: 2}\n",
    ")\n",
    "fmt.Println(bill, ella)\n",
    "\n",
    "var heidi Passenger\n",
    "\n",
    "\n",
    "heidi.Name = \"Heidi\"\n",
    "heidi.TicketNumber = 4\n",
    "fmt.Println(heidi)\n",
    "\n",
    "casey.Boarded = true\n",
    "bill.Boarded = true\n",
    "if bill.Boarded {\n",
    "    fmt.Println(\"Bill has boarded the bus\")\n",
    "}\n",
    "if casey.Boarded {\n",
    "    fmt.Println(\"Casey has boarded the bus\")\n",
    "}\n",
    "\n",
    "heidi.Boarded = true\n",
    "bus := Bus{heidi}\n",
    "fmt.Println(bus)\n",
    "fmt.Println(bus.FrontSeat.Name, \"is in the front seat\")"
   ]
  },
  {
   "cell_type": "code",
   "execution_count": 12,
   "id": "263a340f",
   "metadata": {},
   "outputs": [],
   "source": [
    "//--Summary:\n",
    "//  Create a program to calculate the area and perimeter\n",
    "//  of a rectangle.\n",
    "//\n",
    "//--Requirements:\n",
    "//* Create a rectangle structure containing its coordinates\n",
    "//* Using functions, calculate the area and perimeter of a rectangle,\n",
    "//  - Print the results to the terminal\n",
    "//  - The functions must use the rectangle structure as the function parameter\n",
    "//* After performing the above requirements, double the size\n",
    "//  of the existing rectangle and repeat the calculations\n",
    "//  - Print the new results to the terminal\n",
    "//\n",
    "//--Notes:\n",
    "//* The area of a rectangle is length*width\n",
    "//* The perimeter of a rectangle is the sum of the lengths of all sides"
   ]
  },
  {
   "cell_type": "code",
   "execution_count": 13,
   "id": "5fe5b618",
   "metadata": {},
   "outputs": [],
   "source": [
    "package main\n",
    "\n",
    "import \"fmt\"\n",
    "\n",
    "type Coordinate struct {\n",
    "\tx, y int\n",
    "}\n",
    "\n",
    "//* Create a rectangle structure containing its coordinates\n",
    "type Rectangle struct {\n",
    "\ta Coordinate // top left\n",
    "\tb Coordinate // bottom right\n",
    "}\n",
    "\n",
    "func width(rect Rectangle) int {\n",
    "\treturn (rect.b.x - rect.a.x)\n",
    "}\n",
    "\n",
    "func length(rect Rectangle) int {\n",
    "\treturn (rect.a.y - rect.b.y)\n",
    "}\n",
    "\n",
    "//* Using functions, calculate the area and perimeter of a rectangle,\n",
    "//  - The functions must use the rectangle structure as the function parameter\n",
    "func area(rect Rectangle) int {\n",
    "\treturn length(rect) * width(rect)\n",
    "}\n",
    "\n",
    "func perimeter(rect Rectangle) int {\n",
    "\treturn (width(rect) * 2) + (length(rect) * 2)\n",
    "}\n",
    "\n",
    "//  - Print the results to the terminal\n",
    "func printInfo(rect Rectangle) {\n",
    "\tfmt.Println(\"Area is\", area(rect))\n",
    "\tfmt.Println(\"Perimeter is\", perimeter(rect))\n",
    "}"
   ]
  },
  {
   "cell_type": "code",
   "execution_count": 14,
   "id": "86e3924d",
   "metadata": {},
   "outputs": [],
   "source": [
    "func main() {\n",
    "\trect := Rectangle{a: Coordinate{0, 7}, b: Coordinate{10, 0}}\n",
    "\t//  - Print the results to the terminal\n",
    "\tprintInfo(rect)\n",
    "\n",
    "\t//* After performing the above requirements, double the size\n",
    "\t//  of the existing rectangle and repeat the calculations\n",
    "\trect.a.y *= 2\n",
    "\trect.b.x *= 2\n",
    "\t//  - Print the new results to the terminal\n",
    "\tprintInfo(rect)\n",
    "\n",
    "}"
   ]
  },
  {
   "cell_type": "code",
   "execution_count": 15,
   "id": "be892d5d",
   "metadata": {},
   "outputs": [
    {
     "name": "stdout",
     "output_type": "stream",
     "text": [
      "Area is 70\n",
      "Perimeter is 34\n",
      "Area is 280\n",
      "Perimeter is 68\n"
     ]
    }
   ],
   "source": [
    "main()"
   ]
  },
  {
   "cell_type": "markdown",
   "id": "0c42fb67",
   "metadata": {},
   "source": [
    "## Arrays"
   ]
  },
  {
   "cell_type": "markdown",
   "id": "42420051",
   "metadata": {},
   "source": [
    "Arrays are a way to store multiple pieces of the same kind of data.<br>\n",
    "Data is stored consecutively in an \"array\" of data.<br>\n",
    "Each piece of data is called an element.<br>\n",
    "To access items in the array, an array index is used.<br>\n",
    "The index starts at 0, meaning 0 items from the array start Arrays are fixed-size and cannot be resized"
   ]
  },
  {
   "cell_type": "code",
   "execution_count": 1,
   "id": "70497d60",
   "metadata": {},
   "outputs": [],
   "source": [
    "// creating array\n",
    "\n",
    "var myArray [3] int\n",
    "myArray := [3]int{1,2,3}\n",
    "\n",
    "myArray := [...]int{3,4,5}\n",
    "\n",
    "myArray := [4]int{ 2,5,7}"
   ]
  },
  {
   "cell_type": "code",
   "execution_count": 2,
   "id": "4896769d",
   "metadata": {},
   "outputs": [],
   "source": [
    "var myArray [3]int\n",
    "\n",
    "myArray[0] = 5\n",
    "myArray[1] = 4\n",
    "\n",
    "item1 := myArray[0]"
   ]
  },
  {
   "cell_type": "code",
   "execution_count": 3,
   "id": "6068e8cb",
   "metadata": {},
   "outputs": [
    {
     "name": "stdout",
     "output_type": "stream",
     "text": [
      "7\n",
      "8\n",
      "9\n"
     ]
    }
   ],
   "source": [
    "// Iteration\n",
    "\n",
    "import \"fmt\"\n",
    "\n",
    "myArray := [...]int{ 7,8,9 }\n",
    "\n",
    "for i := 0; i < len(myArray); i++ {\n",
    "    item := myArray[i]\n",
    "    fmt.Println( item )\n",
    "}"
   ]
  },
  {
   "cell_type": "code",
   "execution_count": 4,
   "id": "6057e91e",
   "metadata": {},
   "outputs": [
    {
     "name": "stdout",
     "output_type": "stream",
     "text": [
      "0\n",
      "0\n",
      "0\n"
     ]
    },
    {
     "ename": "ERROR",
     "evalue": "reflect: array index out of range",
     "output_type": "error",
     "traceback": [
      "reflect: array index out of range"
     ]
    }
   ],
   "source": [
    "// Bounds\n",
    "\n",
    "var myArray [3]int\n",
    "\n",
    "for i:= 0; i< 10; i++ {\n",
    "    fmt.Println( myArray[i] )\n",
    "}"
   ]
  },
  {
   "cell_type": "code",
   "execution_count": 5,
   "id": "3086d2f1",
   "metadata": {},
   "outputs": [
    {
     "ename": "ERROR",
     "evalue": "reflect: array index out of range",
     "output_type": "error",
     "traceback": [
      "reflect: array index out of range"
     ]
    }
   ],
   "source": [
    "item4 := myArray[4]"
   ]
  },
  {
   "cell_type": "code",
   "execution_count": 6,
   "id": "13ec92cb",
   "metadata": {},
   "outputs": [],
   "source": [
    "package main\n",
    "\n",
    "import \"fmt\"\n",
    "\n",
    "type Room struct {\n",
    "\tname    string\n",
    "\tcleaned bool\n",
    "}\n",
    "\n",
    "// Must specify the number of array elements in the function parameters\n",
    "func checkCleanliness(rooms [4]Room) {\n",
    "\tfor i := 0; i < len(rooms); i++ {\n",
    "\t\troom := rooms[i]\n",
    "\t\tif room.cleaned {\n",
    "\t\t\tfmt.Println(room.name, \"is clean\")\n",
    "\t\t} else {\n",
    "\t\t\tfmt.Println(room.name, \"is dirty\")\n",
    "\t\t}\n",
    "\t}\n",
    "}\n",
    "\n",
    "func main() {\n",
    "\trooms := [...]Room{\n",
    "\t\t{name: \"Office\"},\n",
    "\t\t{name: \"Warehouse\"},\n",
    "\t\t{name: \"Reception\"},\n",
    "\t\t{name: \"Ops\"},\n",
    "\t}\n",
    "\n",
    "\tcheckCleanliness(rooms)\n",
    "\n",
    "\tfmt.Println(\"Performing cleaning...\")\n",
    "\t// Elements start at index 0\n",
    "\trooms[2].cleaned = true // element 3\n",
    "\trooms[3].cleaned = true // element 4\n",
    "\n",
    "\tcheckCleanliness(rooms)\n",
    "}\n"
   ]
  },
  {
   "cell_type": "code",
   "execution_count": 7,
   "id": "4c017ef3",
   "metadata": {},
   "outputs": [
    {
     "name": "stdout",
     "output_type": "stream",
     "text": [
      "Office is dirty\n",
      "Warehouse is dirty\n",
      "Reception is dirty\n",
      "Ops is dirty\n",
      "Performing cleaning...\n",
      "Office is dirty\n",
      "Warehouse is dirty\n",
      "Reception is clean\n",
      "Ops is clean\n"
     ]
    }
   ],
   "source": [
    "main()"
   ]
  },
  {
   "cell_type": "code",
   "execution_count": 8,
   "id": "543eac93",
   "metadata": {},
   "outputs": [],
   "source": [
    "//--Summary:\n",
    "//  Create a program that can store a shopping list and print\n",
    "//  out information about the list.\n",
    "//\n",
    "//--Requirements:\n",
    "//* Using an array, create a shopping list with enough room\n",
    "//  for 4 products\n",
    "//  - Products must include the price and the name\n",
    "//* Insert 3 products into the array\n",
    "//* Print to the terminal:\n",
    "//  - The last item on the list\n",
    "//  - The total number of items\n",
    "//  - The total cost of the items\n",
    "//* Add a fourth product to the list and print out the\n",
    "//  information again"
   ]
  },
  {
   "cell_type": "code",
   "execution_count": 9,
   "id": "a3d41fe4",
   "metadata": {},
   "outputs": [],
   "source": [
    "package main\n",
    "\n",
    "import \"fmt\"\n",
    "\n",
    "type Product struct {\n",
    "\tprice int\n",
    "\tname  string\n",
    "}\n",
    "\n",
    "//* Print to the terminal:\n",
    "//  - The last item on the list\n",
    "//  - The total number of items\n",
    "//  - The total cost of the items\n",
    "func printStats(list [4]Product) {\n",
    "\tvar cost, totalItems int\n",
    "\n",
    "\tfor i := 0; i < len(list); i++ {\n",
    "\t\titem := list[i]\n",
    "\t\tcost += item.price\n",
    "\n",
    "\t\tif item.name != \"\" {\n",
    "\t\t\ttotalItems += 1\n",
    "\t\t}\n",
    "\t}\n",
    "\n",
    "\tfmt.Println(\"Last item on the list:\", list[totalItems-1])\n",
    "\tfmt.Println(\"Total items:\", totalItems)\n",
    "\tfmt.Println(\"Total cost:\", cost)\n",
    "}\n",
    "\n",
    "func main() {\n",
    "\t//* Using an array, create a shopping list with enough room\n",
    "\t//  for 4 products\n",
    "\tshoppingList := [4]Product{\n",
    "\t\t{1, \"Banana\"},\n",
    "\t\t{6, \"Meat\"},\n",
    "\t\t{3, \"Salad\"},\n",
    "\t}\n",
    "\n",
    "\tprintStats(shoppingList)\n",
    "\n",
    "\t//* Add a fourth product to the list and print out the\n",
    "\t//  information again\n",
    "\tshoppingList[3] = Product{4, \"Bread\"}\n",
    "\n",
    "\tprintStats(shoppingList)\n",
    "}\n"
   ]
  },
  {
   "cell_type": "code",
   "execution_count": 10,
   "id": "f8ebcc34",
   "metadata": {},
   "outputs": [
    {
     "name": "stdout",
     "output_type": "stream",
     "text": [
      "Last item on the list: {3 Salad}\n",
      "Total items: 3\n",
      "Total cost: 10\n",
      "Last item on the list: {4 Bread}\n",
      "Total items: 4\n",
      "Total cost: 14\n"
     ]
    }
   ],
   "source": [
    "main()"
   ]
  },
  {
   "cell_type": "markdown",
   "id": "e8ffdcdf",
   "metadata": {},
   "source": [
    "## Slices"
   ]
  },
  {
   "cell_type": "markdown",
   "id": "dacb0ac1",
   "metadata": {},
   "source": [
    "Slices are companion types that work with arrays<br>\n",
    "They enable a \"view\" into an array<br>\n",
    "Views are dynamic and not fixed in size<br>\n",
    "Functions can accept a slice as a function parameter<br>\n",
    "Any size array can be operated upon via slice"
   ]
  },
  {
   "cell_type": "code",
   "execution_count": 11,
   "id": "a65a0ade",
   "metadata": {},
   "outputs": [],
   "source": [
    "//  Slices and an underlying array can be created at the same time\n",
    "\n",
    "mySlice := []int{ 1,2,3 }\n",
    "\n",
    "//same as array\n",
    "item1 := mySlice[0]"
   ]
  },
  {
   "cell_type": "code",
   "execution_count": 12,
   "id": "2e105d92",
   "metadata": {},
   "outputs": [],
   "source": [
    "// Slice Syntax\n",
    "// slice[startIndex:endIndex]\n",
    "\n",
    "\n",
    "numbers := [...] int{ 1,2,3,4 }\n",
    "slice1 := numbers[:] // 1,2,3,4\n",
    "\n",
    "slice2 := numbers[1:] // 2,3,4\n",
    "\n",
    "slice3 := slice2[:1] //2\n",
    "\n",
    "slice4 := numbers[:2] // [1,2]\n",
    "\n",
    "slice5 := numbers[1:3] // [2,3]\n",
    "\n"
   ]
  },
  {
   "cell_type": "markdown",
   "id": "024b314d",
   "metadata": {},
   "source": [
    " ### Slices can be used to create arrays that can be extended"
   ]
  },
  {
   "cell_type": "code",
   "execution_count": 13,
   "id": "92a81808",
   "metadata": {},
   "outputs": [
    {
     "data": {
      "text/plain": [
       "[1 2 3 3 4 5]"
      ]
     },
     "execution_count": 13,
     "metadata": {},
     "output_type": "execute_result"
    }
   ],
   "source": [
    "//append\n",
    "\n",
    "numbers := []int{1,2,3}\n",
    "numbers = append( numbers, 3,4,5 )\n",
    "\n",
    "numbers"
   ]
  },
  {
   "cell_type": "code",
   "execution_count": 14,
   "id": "a29211ff",
   "metadata": {},
   "outputs": [
    {
     "data": {
      "text/plain": [
       "[1 2 3 4 5 6]"
      ]
     },
     "execution_count": 14,
     "metadata": {},
     "output_type": "execute_result"
    }
   ],
   "source": [
    "// 3 dots can be used to extend a slice with another slice\n",
    "\n",
    "part1 := []int{ 1,2,3 }\n",
    "part2 := []int{ 4,5,6 }\n",
    "combined := append( part1, part2... )\n",
    "\n",
    "combined"
   ]
  },
  {
   "cell_type": "markdown",
   "id": "82abada4",
   "metadata": {},
   "source": [
    "##### Preallocation<br>\n",
    "Slices can be preallocated with specific capacities.<br>\n",
    "The make() function is used to preallocate a slice.<br>\n",
    "Useful when number of elements is known, but their values are still unknown."
   ]
  },
  {
   "cell_type": "code",
   "execution_count": 15,
   "id": "7b02cfc6",
   "metadata": {},
   "outputs": [
    {
     "data": {
      "text/plain": [
       "[0 0 0 0 0 0 0 0 0 0]"
      ]
     },
     "execution_count": 15,
     "metadata": {},
     "output_type": "execute_result"
    }
   ],
   "source": [
    "slice := make( []int, 10 )\n",
    "\n",
    "slice"
   ]
  },
  {
   "cell_type": "markdown",
   "id": "b72659e6",
   "metadata": {},
   "source": [
    "-------------"
   ]
  },
  {
   "cell_type": "code",
   "execution_count": 17,
   "id": "4363b934",
   "metadata": {},
   "outputs": [],
   "source": [
    "func printSlice(title string, slice []string) {\n",
    "\tfmt.Println()\n",
    "\tfmt.Println(\"---\", title, \"---\")\n",
    "\tfor i := 0; i < len(slice); i++ {\n",
    "\t\telement := slice[i]\n",
    "\t\tfmt.Println(element)\n",
    "\t}\n",
    "}"
   ]
  },
  {
   "cell_type": "code",
   "execution_count": 18,
   "id": "5b9340c5",
   "metadata": {},
   "outputs": [
    {
     "name": "stdout",
     "output_type": "stream",
     "text": [
      "\n",
      "--- Route 1 ---\n",
      "Grocery\n",
      "Department Store\n",
      "Salon\n",
      "\n",
      "--- Route 2 ---\n",
      "Grocery\n",
      "Department Store\n",
      "Salon\n",
      "Home\n"
     ]
    }
   ],
   "source": [
    "route := []string{\"Grocery\", \"Department Store\", \"Salon\"}\n",
    "\n",
    "printSlice(\"Route 1\", route)\n",
    "\n",
    "route = append(route, \"Home\")\n",
    "\n",
    "printSlice(\"Route 2\", route)"
   ]
  },
  {
   "cell_type": "code",
   "execution_count": 21,
   "id": "9526ba59",
   "metadata": {},
   "outputs": [],
   "source": [
    "//--Summary:\n",
    "//  Create a program to manage parts on an assembly line.\n",
    "//\n",
    "//--Requirements:\n",
    "//* Using a slice, create an assembly line that contains type Part\n",
    "//* Create a function to print out the contents of the assembly line\n",
    "//* Perform the following:\n",
    "//  - Create an assembly line having any three parts\n",
    "//  - Add two new parts to the line\n",
    "//  - Slice the assembly line so it contains only the two new parts\n",
    "//  - Print out the contents of the assembly line at each step\n",
    "//--Notes:\n",
    "//* Your program output should list 3 parts, then 5 parts, then 2 parts\n"
   ]
  },
  {
   "cell_type": "code",
   "execution_count": 22,
   "id": "77717f4d",
   "metadata": {},
   "outputs": [],
   "source": [
    "\n",
    "package main\n",
    "\n",
    "import \"fmt\"\n",
    "\n",
    "type Part string\n",
    "\n",
    "//* Create the function to print out the contenets of the assembly line\n",
    "\n",
    "func showLine( line []Part ) {\n",
    "    for i:=0; i< len(line); i++{\n",
    "        part := line[i]\n",
    "        fmt.Println( part )\n",
    "    }\n",
    "}\n"
   ]
  },
  {
   "cell_type": "code",
   "execution_count": 23,
   "id": "26cabf7c",
   "metadata": {},
   "outputs": [
    {
     "name": "stdout",
     "output_type": "stream",
     "text": [
      "3 parts:\n",
      "Pipe\n",
      "Bolt\n",
      "Sheet\n"
     ]
    }
   ],
   "source": [
    "//* Using a slice, create an assembly line that contains type Part\n",
    "assemblyLine := make([]Part, 3)\n",
    "//  - Create an assembly line having any three parts\n",
    "assemblyLine[0] = \"Pipe\"\n",
    "assemblyLine[1] = \"Bolt\"\n",
    "assemblyLine[2] = \"Sheet\"\n",
    "\n",
    "fmt.Println(\"3 parts:\")\n",
    "showLine(assemblyLine)"
   ]
  },
  {
   "cell_type": "code",
   "execution_count": 24,
   "id": "3a657bb3",
   "metadata": {},
   "outputs": [
    {
     "name": "stdout",
     "output_type": "stream",
     "text": [
      "\n",
      "Added two parts:\n",
      "Pipe\n",
      "Bolt\n",
      "Sheet\n",
      "Washer\n",
      "Wheel\n",
      "\n",
      "Sliced:\n",
      "Washer\n",
      "Wheel\n"
     ]
    }
   ],
   "source": [
    "//  - Add two new parts to the line\n",
    "assemblyLine = append(assemblyLine, \"Washer\", \"Wheel\")\n",
    "fmt.Println(\"\\nAdded two parts:\")\n",
    "showLine(assemblyLine)\n",
    "\n",
    "//  - Slice the assembly line so it contains only the two new parts\n",
    "assemblyLine = assemblyLine[3:]\n",
    "fmt.Println(\"\\nSliced:\")\n",
    "showLine(assemblyLine)"
   ]
  },
  {
   "cell_type": "markdown",
   "id": "4088f2e4",
   "metadata": {},
   "source": [
    "## Range<br>\n",
    "Similar to enumerate"
   ]
  },
  {
   "cell_type": "code",
   "execution_count": 25,
   "id": "ae524273",
   "metadata": {},
   "outputs": [
    {
     "name": "stdout",
     "output_type": "stream",
     "text": [
      "0 Hello :\n",
      "    'H'\n",
      "    'e'\n",
      "    'l'\n",
      "    'l'\n",
      "    'o'\n",
      "1 world :\n",
      "    'w'\n",
      "    'o'\n",
      "    'r'\n",
      "    'l'\n",
      "    'd'\n",
      "2 ! :\n",
      "    '!'\n"
     ]
    }
   ],
   "source": [
    "slice := []string{ \"Hello\", \"world\", \"!\" }\n",
    "\n",
    "for i , element := range slice{\n",
    "    fmt.Println(i, element, \":\" )\n",
    "    \n",
    "    for _, ch := range element {\n",
    "        fmt.Printf(\"    %q\\n\", ch )\n",
    "    }\n",
    "}"
   ]
  },
  {
   "cell_type": "markdown",
   "id": "cc3b27fd",
   "metadata": {},
   "source": [
    "## Maps<br>\n",
    "Maps are a commonly used data structure that stores data in key-value pairs<br>\n",
    "Extremely high performance when the key is known Unordered - data is stored in random order"
   ]
  },
  {
   "cell_type": "code",
   "execution_count": 26,
   "id": "e24a1fa6",
   "metadata": {},
   "outputs": [],
   "source": [
    "myMap := make( map[string]int )\n",
    "\n",
    "\n",
    "myMap := map[string]int {\n",
    "    \"item 1\": 1,\n",
    "    \"item 2\" : 2,\n",
    "    \"item 3\" : 3,\n",
    "}"
   ]
  },
  {
   "cell_type": "code",
   "execution_count": 27,
   "id": "c3c767dc",
   "metadata": {},
   "outputs": [],
   "source": [
    "// map Operations: insert, read, delete, Check existance\n",
    "\n",
    "\n",
    "myMap := make( map[string]int )\n",
    "// insert\n",
    "\n",
    "myMap[\"fav number\"] = 5\n",
    "\n",
    "// read\n",
    "\n",
    "fav := myMap[\"fav number\"]\n",
    "missing := myMap[\"age\"]"
   ]
  },
  {
   "cell_type": "code",
   "execution_count": 28,
   "id": "91db7db2",
   "metadata": {},
   "outputs": [
    {
     "data": {
      "text/plain": [
       "0"
      ]
     },
     "execution_count": 28,
     "metadata": {},
     "output_type": "execute_result"
    }
   ],
   "source": [
    "missing"
   ]
  },
  {
   "cell_type": "code",
   "execution_count": 29,
   "id": "4bab82d3",
   "metadata": {},
   "outputs": [],
   "source": [
    "//delete\n",
    "delete( myMap, \"fav number\")"
   ]
  },
  {
   "cell_type": "code",
   "execution_count": 30,
   "id": "2ef6af99",
   "metadata": {},
   "outputs": [
    {
     "data": {
      "text/plain": [
       "map[]"
      ]
     },
     "execution_count": 30,
     "metadata": {},
     "output_type": "execute_result"
    }
   ],
   "source": [
    "myMap"
   ]
  },
  {
   "cell_type": "code",
   "execution_count": 34,
   "id": "3605f0d5",
   "metadata": {},
   "outputs": [
    {
     "name": "stdout",
     "output_type": "stream",
     "text": [
      "map[bread:1 eggs:12 milk:1]\n",
      "map[bread:1 eggs:12]\n",
      "need 12 eggs\n",
      "Need cereal?\n",
      "nope\n",
      "There are 13 on the shopping list\n"
     ]
    }
   ],
   "source": [
    "func main() {\n",
    "\tshoppingList := make(map[string]int)\n",
    "\tshoppingList[\"eggs\"] = 11\n",
    "\tshoppingList[\"milk\"] = 1\n",
    "\tshoppingList[\"bread\"] += 1\n",
    "\tshoppingList[\"eggs\"] += 1\n",
    "\tfmt.Println(shoppingList)\n",
    "\n",
    "\tdelete(shoppingList, \"milk\")\n",
    "\tfmt.Println(shoppingList)\n",
    "\n",
    "\tfmt.Println(\"need\", shoppingList[\"eggs\"], \"eggs\")\n",
    "\n",
    "\tcereal, found := shoppingList[\"cereal\"]\n",
    "\tfmt.Println(\"Need cereal?\")\n",
    "\tif !found {\n",
    "\t\tfmt.Println(\"nope\")\n",
    "\t} else {\n",
    "\t\tfmt.Println(\"yup:\", cereal, \"boxes\")\n",
    "\t}\n",
    "\n",
    "\ttotalItems := 0\n",
    "\tfor _, amount := range shoppingList {\n",
    "\t\ttotalItems += amount\n",
    "\t}\n",
    "\tfmt.Println(\"There are\", totalItems, \"on the shopping list\")\n",
    "\n",
    "}\n",
    "\n",
    "main()\n"
   ]
  },
  {
   "cell_type": "code",
   "execution_count": 35,
   "id": "f2776ec6",
   "metadata": {},
   "outputs": [],
   "source": [
    "//--Summary:\n",
    "//  Write a program to display server status.\n",
    "//\n",
    "//--Requirements:\n",
    "//* Create a function to print server status, including:\n",
    "//  - Number of servers\n",
    "//  - Number of servers for each status (Online, Offline, Maintenance, Retired)\n",
    "//* Store the existing slice of servers in a map\n",
    "//* Default all of the servers to `Online`\n",
    "//* Perform the following status changes and display server info:\n",
    "//  - display server info\n",
    "//  - change `darkstar` to `Retired`\n",
    "//  - change `aiur` to `Offline`\n",
    "//  - display server info\n",
    "//  - change all servers to `Maintenance`\n",
    "//  - display server info"
   ]
  },
  {
   "cell_type": "code",
   "execution_count": 36,
   "id": "67dc5ef7",
   "metadata": {},
   "outputs": [],
   "source": [
    "package main\n",
    "\n",
    "import \"fmt\"\n",
    "\n",
    "const (\n",
    "\tOnline      = 0\n",
    "\tOffline     = 1\n",
    "\tMaintenance = 2\n",
    "\tRetired     = 3\n",
    ")\n",
    "\n",
    "//* Create a function to print server status, including:\n",
    "func printServerStatus(servers map[string]int) {\n",
    "\t//  - Number of servers\n",
    "\tfmt.Println(\"\\nThere are\", len(servers), \"servers\")\n",
    "\n",
    "\tstats := make(map[int]int)\n",
    "\tfor _, status := range servers {\n",
    "\t\tswitch status {\n",
    "\t\tcase Online:\n",
    "\t\t\tstats[Online] += 1\n",
    "\t\tcase Offline:\n",
    "\t\t\tstats[Offline] += 1\n",
    "\t\tcase Maintenance:\n",
    "\t\t\tstats[Maintenance] += 1\n",
    "\t\tcase Retired:\n",
    "\t\t\tstats[Retired] += 1\n",
    "\t\tdefault:\n",
    "\t\t\tpanic(\"unhandled server status\")\n",
    "\t\t}\n",
    "\t}\n",
    "\n",
    "\t//  - Number of servers for each status (Online, Offline, Maintenance, Retired)\n",
    "\tfmt.Println(stats[Online], \"servers are online\")\n",
    "\tfmt.Println(stats[Offline], \"servers are offline\")\n",
    "\tfmt.Println(stats[Maintenance], \"servers are undergoing maintenance\")\n",
    "\tfmt.Println(stats[Retired], \"servers are retired\")\n",
    "}"
   ]
  },
  {
   "cell_type": "code",
   "execution_count": 37,
   "id": "6cc6fe70",
   "metadata": {},
   "outputs": [
    {
     "name": "stdout",
     "output_type": "stream",
     "text": [
      "\n",
      "There are 5 servers\n",
      "5 servers are online\n",
      "0 servers are offline\n",
      "0 servers are undergoing maintenance\n",
      "0 servers are retired\n",
      "\n",
      "There are 5 servers\n",
      "3 servers are online\n",
      "1 servers are offline\n",
      "0 servers are undergoing maintenance\n",
      "1 servers are retired\n",
      "\n",
      "There are 5 servers\n",
      "0 servers are online\n",
      "1 servers are offline\n",
      "3 servers are undergoing maintenance\n",
      "1 servers are retired\n"
     ]
    }
   ],
   "source": [
    "func main() {\n",
    "\tservers := []string{\"darkstar\", \"aiur\", \"omicron\", \"w359\", \"baseline\"}\n",
    "\n",
    "\t//* Store the existing slice of servers in a map\n",
    "\tserverStatus := make(map[string]int)\n",
    "\t//* Default all of the servers to `Online`\n",
    "\tfor _, server := range servers {\n",
    "\t\tserverStatus[server] = Online\n",
    "\t}\n",
    "\n",
    "\t//* Perform the following status changes and display server info:\n",
    "\t//  - display server info\n",
    "\tprintServerStatus(serverStatus)\n",
    "\n",
    "\t//  - change `darkstar` to `Retired`\n",
    "\tserverStatus[\"darkstar\"] = Retired\n",
    "\t//  - change `aiur` to `Offline`\n",
    "\tserverStatus[\"aiur\"] = Offline\n",
    "\n",
    "\t//  - display server info\n",
    "\tprintServerStatus(serverStatus)\n",
    "\n",
    "\t//  - change all servers to `Maintenance`\n",
    "\tfor server, status := range serverStatus {\n",
    "\t\tif status == Online {\n",
    "\t\t\tserverStatus[server] = Maintenance\n",
    "\t\t}\n",
    "\t}\n",
    "\t//  - display server info\n",
    "\tprintServerStatus(serverStatus)\n",
    "}\n",
    "\n",
    "main()"
   ]
  },
  {
   "cell_type": "markdown",
   "id": "a0fafa9a",
   "metadata": {},
   "source": [
    "## Pointer"
   ]
  },
  {
   "cell_type": "markdown",
   "id": "80fc5897",
   "metadata": {},
   "source": [
    "Function calls in Go are \"pass by value\" <br>\n",
    "A copy of each function argument is made, regardless of size<br>\n",
    "Potentially slow for large data structures<br>\n",
    "More difficult to manage program state This can be changed by using pointers"
   ]
  },
  {
   "cell_type": "markdown",
   "id": "70497428",
   "metadata": {},
   "source": [
    "Pointers are variables that \"point to\" memory <br>\n",
    "The value of the variable itself is a memory address<br>\n",
    "Accessing the data requires dereferencing the pointer<br>\n",
    "This allows changing values that exist elsewhere in the program"
   ]
  },
  {
   "cell_type": "markdown",
   "id": "bb456701",
   "metadata": {},
   "source": [
    "### Creating Pointer<br>\n",
    "Asterisk (*) when used with a type indicates the value is a pointer<br>\n",
    "Ampersand (&) creates a pointer from a variable"
   ]
  },
  {
   "cell_type": "code",
   "execution_count": 47,
   "id": "f32a4d93",
   "metadata": {},
   "outputs": [
    {
     "name": "stderr",
     "output_type": "stream",
     "text": [
      "0xc000252038"
     ]
    }
   ],
   "source": [
    "value := 10\n",
    "\n",
    "var valuePtr *int\n",
    "valuePtr = &value\n",
    "\n",
    "print( valuePtr )\n",
    "\n"
   ]
  },
  {
   "cell_type": "code",
   "execution_count": 48,
   "id": "026d36c5",
   "metadata": {},
   "outputs": [
    {
     "name": "stderr",
     "output_type": "stream",
     "text": [
      "10"
     ]
    }
   ],
   "source": [
    "print( *valuePtr  )"
   ]
  },
  {
   "cell_type": "code",
   "execution_count": 49,
   "id": "81978c67",
   "metadata": {},
   "outputs": [
    {
     "data": {
      "text/plain": [
       "0xc000252038"
      ]
     },
     "execution_count": 49,
     "metadata": {},
     "output_type": "execute_result"
    }
   ],
   "source": [
    "// OR\n",
    "\n",
    "value := 10\n",
    "valuePtr := &value\n",
    "\n",
    "valuePtr"
   ]
  },
  {
   "cell_type": "code",
   "execution_count": 50,
   "id": "cc391f0a",
   "metadata": {},
   "outputs": [],
   "source": [
    "// Using Pointers\n",
    "\n",
    "\n",
    "func increment( x *int ){\n",
    "    *x = *x + 1  \n",
    "}\n",
    "\n",
    "i := 1\n",
    "\n",
    "increment( &i )\n",
    "\n",
    "    \n"
   ]
  },
  {
   "cell_type": "code",
   "execution_count": 51,
   "id": "8700d159",
   "metadata": {},
   "outputs": [
    {
     "name": "stdout",
     "output_type": "stream",
     "text": [
      "Hello World!\n",
      "Counter &{1}\n",
      "Hi World!\n",
      "[Hi World!]\n",
      "Counter &{2}\n",
      "[Hi Go!]\n"
     ]
    }
   ],
   "source": [
    "type Counter struct {\n",
    "\thits int\n",
    "}\n",
    "\n",
    "func increment(counter *Counter) {\n",
    "\t// Using dot notation automatically dereferences. No asterisk(*) needed.\n",
    "\tcounter.hits += 1\n",
    "\tfmt.Println(\"Counter\", counter)\n",
    "}\n",
    "\n",
    "func replace(old *string, new string, counter *Counter) {\n",
    "\t*old = new\n",
    "\tincrement(counter)\n",
    "}\n",
    "\n",
    "func main() {\n",
    "\tcounter := Counter{}\n",
    "\n",
    "\thello := \"Hello\"\n",
    "\tworld := \"World!\"\n",
    "\tfmt.Println(hello, world)\n",
    "\n",
    "\t// Pointer to hello\n",
    "\treplace(&hello, \"Hi\", &counter)\n",
    "\tfmt.Println(hello, world)\n",
    "\n",
    "\tphrase := []string{hello, world}\n",
    "\tfmt.Println(phrase)\n",
    "\n",
    "\t// Pointer to `world` in the `phrase` slice\n",
    "\treplace(&phrase[1], \"Go!\", &counter)\n",
    "\tfmt.Println(phrase)\n",
    "\n",
    "}\n",
    "\n",
    "main()"
   ]
  },
  {
   "cell_type": "code",
   "execution_count": 52,
   "id": "a0e73ef2",
   "metadata": {},
   "outputs": [],
   "source": [
    "//--Summary:\n",
    "//  Create a program that can activate and deactivate security tags\n",
    "//  on products.\n",
    "//\n",
    "//--Requirements:\n",
    "//* Create a structure to store items and their security tag state\n",
    "//  - Security tags have two states: active (true) and inactive (false)\n",
    "//* Create functions to activate and deactivate security tags using pointers\n",
    "//* Create a checkout() function which can deactivate all tags in a slice\n",
    "//* Perform the following:\n",
    "//  - Create at least 4 items, all with active security tags\n",
    "//  - Store them in a slice or array\n",
    "//  - Deactivate any one security tag in the array/slice\n",
    "//  - Call the checkout() function to deactivate all tags\n",
    "//  - Print out the array/slice after each change"
   ]
  },
  {
   "cell_type": "code",
   "execution_count": 53,
   "id": "b2e0392d",
   "metadata": {},
   "outputs": [],
   "source": [
    "const (\n",
    "\tActive   = true\n",
    "\tInactive = false\n",
    ")\n",
    "\n",
    "//  - Security tags have two states: active (true) and inactive (false)\n",
    "type SecurityTag bool\n",
    "\n",
    "//* Create a structure to store items and their security tag state\n",
    "type Item struct {\n",
    "\tname string\n",
    "\ttag  SecurityTag\n",
    "}\n",
    "\n",
    "//* Create functions to activate and deactivate security tags using pointers\n",
    "func activate(tag *SecurityTag) {\n",
    "\t*tag = Active\n",
    "}\n",
    "\n",
    "func deactivate(tag *SecurityTag) {\n",
    "\t*tag = Inactive\n",
    "}\n",
    "\n",
    "//* Create a checkout() function which can deactivate all tags in a slice\n",
    "func checkout(items []Item) {\n",
    "\tfmt.Println(\"checking out...\")\n",
    "\tfor i := 0; i < len(items); i++ {\n",
    "\t\tdeactivate(&items[i].tag)\n",
    "\t}\n",
    "}"
   ]
  },
  {
   "cell_type": "code",
   "execution_count": 54,
   "id": "fe9adedb",
   "metadata": {},
   "outputs": [
    {
     "name": "stdout",
     "output_type": "stream",
     "text": [
      "[{Shirt true} {Pants true} {Purse true} {Watch true}]\n",
      "[{Shirt false} {Pants true} {Purse true} {Watch true}]\n",
      "checking out...\n",
      "[{Shirt false} {Pants false} {Purse false} {Watch false}]\n"
     ]
    }
   ],
   "source": [
    "func main() {\n",
    "\t//* Perform the following:\n",
    "\t//  - Create at least 4 items, all with active security tags\n",
    "\tshirt := Item{\"Shirt\", Active}\n",
    "\tpants := Item{\"Pants\", Active}\n",
    "\tpurse := Item{\"Purse\", Active}\n",
    "\twatch := Item{\"Watch\", Active}\n",
    "\n",
    "\t//  - Store them in a slice or array\n",
    "\titems := []Item{shirt, pants, purse, watch}\n",
    "\tfmt.Println(items)\n",
    "\n",
    "\t//  - Deactivate any one security tag in the array/slice\n",
    "\tdeactivate(&items[0].tag)\n",
    "\tfmt.Println(items)\n",
    "\n",
    "\t//  - Call the checkout() function to deactivate all tags\n",
    "\tcheckout(items)\n",
    "\tfmt.Println(items)\n",
    "}\n",
    "main()"
   ]
  },
  {
   "cell_type": "markdown",
   "id": "907aff55",
   "metadata": {},
   "source": [
    "#### Lets merge all"
   ]
  },
  {
   "cell_type": "code",
   "execution_count": 1,
   "id": "f2a6ac0f",
   "metadata": {},
   "outputs": [],
   "source": [
    "//--Summary:\n",
    "//  Create a program that can activate and deactivate security tags\n",
    "//  on products.\n",
    "//\n",
    "//--Requirements:\n",
    "//* Create a structure to store items and their security tag state\n",
    "//  - Security tags have two states: active (true) and inactive (false)\n",
    "//* Create functions to activate and deactivate security tags using pointers\n",
    "//* Create a checkout() function which can deactivate all tags in a slice\n",
    "//* Perform the following:\n",
    "//  - Create at least 4 items, all with active security tags\n",
    "//  - Store them in a slice or array\n",
    "//  - Deactivate any one security tag in the array/slice\n",
    "//  - Call the checkout() function to deactivate all tags\n",
    "//  - Print out the array/slice after each change"
   ]
  },
  {
   "cell_type": "code",
   "execution_count": 2,
   "id": "ac026138",
   "metadata": {},
   "outputs": [],
   "source": [
    "package main\n",
    "\n",
    "import \"fmt\"\n",
    "\n",
    "const (\n",
    "\tActive   = true\n",
    "\tInactive = false\n",
    ")\n",
    "\n",
    "//  - Security tags have two states: active (true) and inactive (false)\n",
    "type SecurityTag bool\n",
    "\n",
    "//* Create a structure to store items and their security tag state\n",
    "type Item struct {\n",
    "\tname string\n",
    "\ttag  SecurityTag\n",
    "}\n",
    "\n",
    "//* Create functions to activate and deactivate security tags using pointers\n",
    "func activate(tag *SecurityTag) {\n",
    "\t*tag = Active\n",
    "}\n",
    "\n",
    "func deactivate(tag *SecurityTag) {\n",
    "\t*tag = Inactive\n",
    "}\n",
    "\n",
    "//* Create a checkout() function which can deactivate all tags in a slice\n",
    "func checkout(items []Item) {\n",
    "\tfmt.Println(\"checking out...\")\n",
    "\tfor i := 0; i < len(items); i++ {\n",
    "\t\tdeactivate(&items[i].tag)\n",
    "\t}\n",
    "}"
   ]
  },
  {
   "cell_type": "code",
   "execution_count": 3,
   "id": "2d76cfba",
   "metadata": {},
   "outputs": [
    {
     "name": "stdout",
     "output_type": "stream",
     "text": [
      "[{Shirt true} {Pants true} {Purse true} {Watch true}]\n",
      "[{Shirt false} {Pants true} {Purse true} {Watch true}]\n",
      "checking out...\n",
      "[{Shirt false} {Pants false} {Purse false} {Watch false}]\n"
     ]
    }
   ],
   "source": [
    "func main() {\n",
    "\t//* Perform the following:\n",
    "\t//  - Create at least 4 items, all with active security tags\n",
    "\tshirt := Item{\"Shirt\", Active}\n",
    "\tpants := Item{\"Pants\", Active}\n",
    "\tpurse := Item{\"Purse\", Active}\n",
    "\twatch := Item{\"Watch\", Active}\n",
    "\n",
    "\t//  - Store them in a slice or array\n",
    "\titems := []Item{shirt, pants, purse, watch}\n",
    "\tfmt.Println(items)\n",
    "\n",
    "\t//  - Deactivate any one security tag in the array/slice\n",
    "\tdeactivate(&items[0].tag)\n",
    "\tfmt.Println(items)\n",
    "\n",
    "\t//  - Call the checkout() function to deactivate all tags\n",
    "\tcheckout(items)\n",
    "\tfmt.Println(items)\n",
    "}\n",
    "\n",
    "main()"
   ]
  },
  {
   "cell_type": "markdown",
   "id": "d9c7d87f",
   "metadata": {},
   "source": [
    "### One more example"
   ]
  },
  {
   "cell_type": "code",
   "execution_count": 4,
   "id": "4cade618",
   "metadata": {},
   "outputs": [],
   "source": [
    "//--Summary:\n",
    "//  Create a program to manage lending of library books.\n",
    "//\n",
    "//--Requirements:\n",
    "//* The library must have books and members, and must include:\n",
    "//  - Which books have been checked out\n",
    "//  - What time the books were checked out\n",
    "//  - What time the books were returned\n",
    "//* Perform the following:\n",
    "//  - Add at least 4 books and at least 3 members to the library\n",
    "//  - Check out a book\n",
    "//  - Check in a book\n",
    "//  - Print out initial library information, and after each change\n",
    "//* There must only ever be one copy of the library in memory at any time\n",
    "//\n",
    "//--Notes:\n",
    "//* Use the `time` package from the standard library for check in/out times\n",
    "//* Liberal use of type aliases, structs, and maps will help organize this project"
   ]
  },
  {
   "cell_type": "code",
   "execution_count": 5,
   "id": "bf5c34c1",
   "metadata": {},
   "outputs": [],
   "source": [
    "package main\n",
    "\n",
    "import \"fmt\"\n",
    "import \"time\"\n",
    "\n",
    "type Title string\n",
    "type Name string\n",
    "\n",
    "type LendAudit struct {\n",
    "\tcheckOut time.Time\n",
    "\tcheckIn  time.Time\n",
    "}\n",
    "\n",
    "type Member struct {\n",
    "\tname  Name\n",
    "\tbooks map[Title]LendAudit\n",
    "}\n",
    "\n",
    "type BookEntry struct {\n",
    "\ttotal  int // total owned by library\n",
    "\tlended int // total lended\n",
    "}\n",
    "\n",
    "//* There must only ever be one copy of the library in memory at any time\n",
    "type Library struct {\n",
    "\tmembers map[Name]Member\n",
    "\tbooks   map[Title]BookEntry\n",
    "}\n",
    "\n",
    "func printMemberAudit(member *Member) {\n",
    "\tfor title, audit := range member.books {\n",
    "\t\tvar returnTime string\n",
    "\t\tif audit.checkIn.IsZero() {\n",
    "\t\t\treturnTime = \"[not returned yet]\"\n",
    "\t\t} else {\n",
    "\t\t\treturnTime = audit.checkIn.String()\n",
    "\t\t}\n",
    "\t\tfmt.Println(member.name, \":\", title, \":\", audit.checkOut.String(), \"through\", returnTime)\n",
    "\t}\n",
    "}\n",
    "\n",
    "func printMemberAudits(library *Library) {\n",
    "\tfor _, member := range library.members {\n",
    "\t\tprintMemberAudit(&member)\n",
    "\t}\n",
    "}\n",
    "\n",
    "func printLibraryBooks(library *Library) {\n",
    "\tfmt.Println()\n",
    "\tfor title, book := range library.books {\n",
    "\t\tfmt.Println(title, \"/ total:\", book.total, \"/ lended:\", book.lended)\n",
    "\t}\n",
    "\tfmt.Println()\n",
    "}\n",
    "\n",
    "func returnBook(library *Library, title Title, member *Member) bool {\n",
    "\t// Make sure the book is part of this library\n",
    "\tbook, found := library.books[title]\n",
    "\tif !found {\n",
    "\t\tfmt.Println(\"Book not part of library\")\n",
    "\t\treturn false\n",
    "\t}\n",
    "\t// Make sure the member checked out the book\n",
    "\taudit, found := member.books[title]\n",
    "\tif !found {\n",
    "\t\tfmt.Println(\"Member did not check out this book\")\n",
    "\t\treturn true\n",
    "\t}\n",
    "\n",
    "\t// Update library\n",
    "\tbook.lended -= 1\n",
    "\tlibrary.books[title] = book\n",
    "\n",
    "\t// Update member info\n",
    "\taudit.checkIn = time.Now()\n",
    "\tmember.books[title] = audit\n",
    "\treturn true\n",
    "}\n",
    "\n",
    "func checkoutBook(library *Library, title Title, member *Member) bool {\n",
    "\t// Make sure the book is part of the library\n",
    "\tbook, found := library.books[title]\n",
    "\tif !found {\n",
    "\t\tfmt.Println(\"Book not part of library\")\n",
    "\t\treturn false\n",
    "\t}\n",
    "\t// Make sure we have enough to lend\n",
    "\tif book.lended == book.total {\n",
    "\t\tfmt.Println(\"No more of that book is available\")\n",
    "\t\treturn false\n",
    "\t}\n",
    "\n",
    "\t// Update library\n",
    "\tbook.lended += 1\n",
    "\tlibrary.books[title] = book\n",
    "\n",
    "\t// Update member info\n",
    "\tmember.books[title] = LendAudit{checkOut: time.Now()}\n",
    "\n",
    "\treturn true\n",
    "}"
   ]
  },
  {
   "cell_type": "code",
   "execution_count": 6,
   "id": "333c9234",
   "metadata": {},
   "outputs": [],
   "source": [
    "func main() {\n",
    "\tlibrary := Library{\n",
    "\t\tbooks:   make(map[Title]BookEntry),\n",
    "\t\tmembers: make(map[Name]Member),\n",
    "\t}\n",
    "\t//  - Add at least 4 books...\n",
    "\tlibrary.books[\"Webapps in Go\"] = BookEntry{\n",
    "\t\ttotal:  4,\n",
    "\t\tlended: 0,\n",
    "\t}\n",
    "\tlibrary.books[\"The Little Go Book\"] = BookEntry{\n",
    "\t\ttotal:  3,\n",
    "\t\tlended: 0,\n",
    "\t}\n",
    "\tlibrary.books[\"Let's learn Go\"] = BookEntry{\n",
    "\t\ttotal:  2,\n",
    "\t\tlended: 0,\n",
    "\t}\n",
    "\tlibrary.books[\"Go Bootcamp\"] = BookEntry{\n",
    "\t\ttotal:  1,\n",
    "\t\tlended: 0,\n",
    "\t}\n",
    "\t//  ... and at least 3 members to the library\n",
    "\tlibrary.members[\"Jayson\"] = Member{\"Jayson\", make(map[Title]LendAudit)}\n",
    "\tlibrary.members[\"Billy\"] = Member{\"Billy\", make(map[Title]LendAudit)}\n",
    "\tlibrary.members[\"Susanna\"] = Member{\"Susanna\", make(map[Title]LendAudit)}\n",
    "\n",
    "\tfmt.Println(\"\\nInitial:\")\n",
    "\t//  - Print out initial library information, and after each change\n",
    "\tprintLibraryBooks(&library)\n",
    "\tprintMemberAudits(&library)\n",
    "\n",
    "\t//  - Check out a book\n",
    "\tmember := library.members[\"Jayson\"]\n",
    "\tcheckedOut := checkoutBook(&library, \"Go Bootcamp\", &member)\n",
    "\tfmt.Println(\"\\nCheck out a book:\")\n",
    "\tif checkedOut {\n",
    "\t\tprintLibraryBooks(&library)\n",
    "\t\tprintMemberAudits(&library)\n",
    "\t}\n",
    "\n",
    "\t//  - Check in a book\n",
    "\treturned := returnBook(&library, \"Go Bootcamp\", &member)\n",
    "\tfmt.Println(\"\\nCheck in a book:\")\n",
    "\tif returned {\n",
    "\t\tprintLibraryBooks(&library)\n",
    "\t\tprintMemberAudits(&library)\n",
    "\t}\n",
    "}\n"
   ]
  },
  {
   "cell_type": "markdown",
   "id": "4cf76baf",
   "metadata": {},
   "source": [
    "## Receiver Functions"
   ]
  },
  {
   "cell_type": "code",
   "execution_count": null,
   "id": "ac78585c",
   "metadata": {},
   "outputs": [],
   "source": []
  }
 ],
 "metadata": {
  "kernelspec": {
   "display_name": "Go",
   "language": "go",
   "name": "gophernotes"
  },
  "language_info": {
   "codemirror_mode": "",
   "file_extension": ".go",
   "mimetype": "",
   "name": "go",
   "nbconvert_exporter": "",
   "pygments_lexer": "",
   "version": "go1.18.2"
  }
 },
 "nbformat": 4,
 "nbformat_minor": 5
}
